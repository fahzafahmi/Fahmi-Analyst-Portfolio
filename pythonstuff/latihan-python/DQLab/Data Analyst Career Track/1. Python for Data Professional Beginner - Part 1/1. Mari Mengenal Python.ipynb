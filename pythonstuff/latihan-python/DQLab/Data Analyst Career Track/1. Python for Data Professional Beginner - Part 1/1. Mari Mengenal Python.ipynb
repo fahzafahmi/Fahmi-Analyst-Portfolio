{
 "cells": [
  {
   "cell_type": "markdown",
   "metadata": {},
   "source": [
    "# Program pertama: \"Hello World\"\n",
    "Aku diberikan tugas oleh Senja untuk menampilkan pesan “Hello World!” pada layar menggunakan fungsi print()"
   ]
  },
  {
   "cell_type": "code",
   "execution_count": 2,
   "metadata": {},
   "outputs": [
    {
     "name": "stdout",
     "output_type": "stream",
     "text": [
      "Hello World!\n"
     ]
    }
   ],
   "source": [
    "print (\"Hello World!\")"
   ]
  },
  {
   "cell_type": "markdown",
   "metadata": {},
   "source": [
    "# Program Pertamaku\n",
    "Sekarang aku diberikan tugas dari Senja untuk menampilkan kalimat “Halo Dunia” dan “Riset Bahasa Python” menggunakan fungsi print()."
   ]
  },
  {
   "cell_type": "code",
   "execution_count": 3,
   "metadata": {},
   "outputs": [
    {
     "name": "stdout",
     "output_type": "stream",
     "text": [
      "Halo Dunia\n",
      "Riset Bahasa Python\n"
     ]
    }
   ],
   "source": [
    "print(\"Halo Dunia\")\n",
    "print(\"Riset Bahasa Python\")"
   ]
  },
  {
   "cell_type": "markdown",
   "metadata": {},
   "source": [
    "# Struktur Program Python - Part 1\n",
    "Aku diminta untuk mencoba mempraktekkan tutorial yang diajarkan untuk memahami struktur bahasa pemrograman Python.\n",
    "<br/>\n",
    "Ketik Syntax berikut pada Live Code Editor:\n"
   ]
  },
  {
   "cell_type": "code",
   "execution_count": 4,
   "metadata": {},
   "outputs": [
    {
     "name": "stdout",
     "output_type": "stream",
     "text": [
      "Belajar Python menyenangkan\n",
      "Halo Dunia\n",
      "Hello World!\n",
      "15\n"
     ]
    }
   ],
   "source": [
    "# Statement\n",
    "print(\"Belajar Python menyenangkan\") \n",
    "print(\"Halo Dunia\")\n",
    "print(\"Hello World!\")\n",
    "# Variables & Literals\n",
    "bilangan1 = 5\n",
    "bilangan2 = 10\n",
    "kalimat1 = \"Belajar Bahasa Python\"\n",
    "# Operators\n",
    "print(bilangan1 + bilangan2)"
   ]
  },
  {
   "cell_type": "markdown",
   "metadata": {},
   "source": [
    "# Tugas Praktek 1\n",
    "Deklarasi variable bilangan1 dengan 20, dan bilangan2 dengan 10 dan tampilkan hasil pengurangan bilangan1 & bilangan 2."
   ]
  },
  {
   "cell_type": "code",
   "execution_count": 5,
   "metadata": {},
   "outputs": [
    {
     "name": "stdout",
     "output_type": "stream",
     "text": [
      "10\n"
     ]
    }
   ],
   "source": [
    "bilangan1 = 20\n",
    "bilangan2 = 10\n",
    "print(bilangan1 - bilangan2)"
   ]
  },
  {
   "cell_type": "markdown",
   "metadata": {},
   "source": [
    "# Tugas Praktek 2\n",
    "Aku diminta menghitung harga_setelah_potongan dan harga_final. harga_final diperoleh dengan mengalikan harga_setelah_potongan dengan angka 1.1 karena PPN sebesar 10% (100% + 10% = 110% atau 1.1)<br/>\n",
    "Aku menggunakan variabel harga_asli dengan nilai 20000 dan variabel potongan dengan nilai 2000."
   ]
  },
  {
   "cell_type": "code",
   "execution_count": 6,
   "metadata": {},
   "outputs": [
    {
     "name": "stdout",
     "output_type": "stream",
     "text": [
      "19800.0\n"
     ]
    }
   ],
   "source": [
    "harga_asli = 20000\n",
    "potongan = 2000\n",
    "harga_setelah_potongan = harga_asli - potongan\n",
    "harga_final = harga_setelah_potongan * 1.1\n",
    "print(harga_final)"
   ]
  }
 ],
 "metadata": {
  "kernelspec": {
   "display_name": "Python 3.10.6 64-bit",
   "language": "python",
   "name": "python3"
  },
  "language_info": {
   "codemirror_mode": {
    "name": "ipython",
    "version": 3
   },
   "file_extension": ".py",
   "mimetype": "text/x-python",
   "name": "python",
   "nbconvert_exporter": "python",
   "pygments_lexer": "ipython3",
   "version": "3.10.7"
  },
  "orig_nbformat": 4,
  "vscode": {
   "interpreter": {
    "hash": "aee8b7b246df8f9039afb4144a1f6fd8d2ca17a180786b69acc140d282b71a49"
   }
  }
 },
 "nbformat": 4,
 "nbformat_minor": 2
}
