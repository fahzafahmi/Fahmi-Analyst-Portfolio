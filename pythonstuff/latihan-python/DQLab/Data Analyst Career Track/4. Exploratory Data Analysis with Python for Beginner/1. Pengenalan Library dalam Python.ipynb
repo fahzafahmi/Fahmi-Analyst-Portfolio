{
 "cells": [
  {
   "cell_type": "markdown",
   "metadata": {},
   "source": [
    "# Pendahuluan\n",
    "Pagi penuh kejutan! Aku menemukan seseorang dengan rambut bergaya jamur dan bertubuh tambun menempel selembar memo berisi poin-poin materi seputar analisis data di dinding mejaku.\n",
    "\n",
    "“Pelajari dalam waktu 3 hari” ujarnya singkat lalu pergi. Tantangan datang bertubi-tubi, inikah rasanya lika-liku meraih mimpi? Kutarik napas panjang, aku enggak akan nyerah!\n",
    "\n",
    "Library pada Python merupakan kumpulan code yang bersifat open-source yang dapat dipanggil ke dalam Python dan digunakan untuk membantu komputasi. Library dasar pada Python yang digunakan untuk analisis data antara lain NumPy, SciPy, Pandas, dan Matplotlib dengan fungsional yang berbeda - beda. Modul ini akan menjabarkan kegunaan masing - masing library beserta contoh kasus penggunaan library tersebut dalam menyelesaikan real - case di dunia kerja.\n",
    "\n",
    "# Library NumPy\n",
    "Sejak hari pertama memasuki dunia data, aku sering kali menemukan istilah umum yang punya arti berbeda di bidang data. Contohnya nih, Python ternyata bukan nama jenis ular, tapi bahasa pemrograman. Lalu, sekarang aku menemukan modul pembelajaran seputar “Library dalam Python”! Kupikir sejenis perpustakaan, tapi tentunya bukan. Aku pernah menyampaikan hal ini pada Senja yang justru menertawaiku. \n",
    "\n",
    "“Hahaha, dasar Aksara! Tidak apa-apa, perlahan kamu akan terbiasa. Setidaknya kamu jadi belajar hal baru bukan?”\n",
    "\n",
    "“Betul,” ujarku bersemangat. Aku pun sudah tidak sabar mencari tahu apa itu “Library” versi Python ini. Ah, jadi kangen Senja! Hari ini aku harus belajar sendiri dengan materi-materi baru dari Andra karena memang untuk pembelajaran ini, Andra ahlinya. \n",
    "\n",
    "Aku pun mulai membolak-balik halaman modul baru yang kudapat tadi.\n",
    "\n",
    "Numpy berasal dari kata ‘Numerical Python’, sesuai namanya NumPy berfungsi sebagai library untuk melakukan proses komputasi numerik terutama dalam bentuk array multidimensional (1-Dimensi ataupun 2-Dimensi). Array merupakan kumpulan dari variabel yang memiliki tipe data yang sama. NumPy menyimpan data dalam bentuk arrays.\n",
    "\n",
    "Bentuk 1D NumPy array dapat diilustrasikan sebagai berikut:<br/>\n",
    "\n",
    "<img src=\"https://raw.githubusercontent.com/fahzafahmi/latihan-python/master/DQLab/assets/4.%20Exploratory%20Data%20Analysis%20with%20Python%20for%20Beginner/1.%20Pengenalan%20Library%20dalam%20Python/1.%201D%20NumPy.png\">\n",
    "\n",
    "Bentuk 2D NumPy array dapat diilustrasikan sebagai berikut:<br/>\n",
    "\n",
    "<img src=\"https://raw.githubusercontent.com/fahzafahmi/latihan-python/master/DQLab/assets/4.%20Exploratory%20Data%20Analysis%20with%20Python%20for%20Beginner/1.%20Pengenalan%20Library%20dalam%20Python/2.%202D%20NumPy.png\">\n",
    "\n",
    "# Library Pandas\n",
    "Pandas merupakan library yang memudahkan dalam melakukan manipulasi, cleansing maupun analisis struktur data. Dengan menggunakan Pandas, dapat memanfaatkan lima fitur utama dalam pemrosesan dan analisis data, yaitu load, prepare, manipulate, modelling, dan analysis data.\n",
    "\n",
    "Pandas menggunakan konsep array dari NumPy namun memberikan index kepada array tersebut, sehingga disebut series ataupun data frame. Sehingga bisa dikatakan Pandas menyimpan data dalam dictionary-based NumPy arrays. 1-Dimensi labelled array dinamakan sebagai Series. Sedangkan 2-Dimensi dinamakan sebagai Data Frame.\n",
    "\n",
    "Bentuk dari series diilustrasikan sebagai berikut:<br/>\n",
    "\n",
    "<img src=\"https://raw.githubusercontent.com/fahzafahmi/latihan-python/master/DQLab/assets/4.%20Exploratory%20Data%20Analysis%20with%20Python%20for%20Beginner/1.%20Pengenalan%20Library%20dalam%20Python/3.%20series.png\">\n",
    "\n",
    "Bentuk dari data frame diilustrasikan sebagai berikut:<br/>\n",
    "\n",
    "<img src=\"https://raw.githubusercontent.com/fahzafahmi/latihan-python/master/DQLab/assets/4.%20Exploratory%20Data%20Analysis%20with%20Python%20for%20Beginner/1.%20Pengenalan%20Library%20dalam%20Python/4.%20data%20frame.png\">\n",
    "\n",
    "# Library SciPy\n",
    "Scipy dibangun untuk bekerja dengan array NumPy dan menyediakan banyak komputasi numerik yang ramah pengguna dan efisien seperti rutinitas untuk integrasi, diferensiasi dan optimasi numerik.\n",
    "\n",
    "Baik NumPy maupun SciPy berjalan pada semua operating system, cepat untuk diinstall dan gratis. NumPy dan SciPy mudah digunakan, tetapi cukup kuat untuk diandalkan oleh beberapa data scientist dan researcher terkemuka dunia.\n",
    "\n",
    "# Library Matplotlib\n",
    "Matplotlib merupakan library dari Python yang umum digunakan untuk visualisasi data. Matplotlib memiliki kapabilitas untuk membuat visualisasi data 2-dimensional. Contoh visualisasi yang dapat dibuat dengan menggunakan matplotlib diantaranya adalah\n",
    "<ol>\n",
    "<li>Line chart</li>\n",
    "<li>Bar chart</li>\n",
    "<li>Pie chart</li>\n",
    "<li>Box plot chart</li>\n",
    "<li>Violin chart</li>\n",
    "<li>Errorbar chart</li>\n",
    "<li>Scatter chart</li>\n",
    "</ol>\n",
    "Jenis-jenis chart lainnya juga dapat dibuat melalui library ini.\n",
    "\n",
    "# Quiz 1\n",
    "Karyawan A mendapatkan tugas dari karyawan B untuk membuat summary dari hasil dataset penjualan di e-commerce ABC, dimana order dataset tersebut disimpan di CSV file. Namun karyawan A memiliki kesulitan dalam melakukan proses loading dataset tersebut ke dalam Python.\n",
    "\n",
    "Library dari Python manakah yang dapat direkomendasikan kepada karyawan A?\n",
    "\n",
    "**Pandas**\n",
    "\n",
    "# Quiz 2\n",
    "Setelah melakukan proses manipulasi data, untuk menyajikan data tersebut, karyawan A butuh membuat beberapa chart terkait distribusi data. Library manakah yang paling cocok digunakan oleh karyawan A?\n",
    "\n",
    "**Matplotlib**"
   ]
  },
  {
   "cell_type": "markdown",
   "metadata": {},
   "source": [
    "# Memanggil library di Python\n",
    "Sebelum dapat digunakan, library tersebut harus terlebih dahulu dipanggil ke dalam lingkungan Python. Command untuk memanggil library di Python menggunakan syntax (menggunakan huruf kecil):\n",
    "\n",
    "<img src=\"https://raw.githubusercontent.com/fahzafahmi/latihan-python/master/DQLab/assets/4.%20Exploratory%20Data%20Analysis%20with%20Python%20for%20Beginner/1.%20Pengenalan%20Library%20dalam%20Python/5.%20memanggil%20library.png\">\n",
    "\n",
    "Alias berfungsi sebagai pengganti nama library, sehingga menghemat komputasi saat function dari library tersebut dipanggil.\n",
    "\n",
    "\n",
    "***Tugas Praktek***\n",
    "\n",
    "Cobalah untuk mengimport library **numpy** dan **pandas** menggunakan alias **np** dan **pd** masing-masingnya.\n",
    "\n",
    "Jika dijalankan dengan menekan tombol Run maka akan diperoleh hasil berikut di bagian console:\n",
    "\n"
   ]
  },
  {
   "cell_type": "code",
   "execution_count": 1,
   "metadata": {},
   "outputs": [],
   "source": [
    "import numpy as np\n",
    "import pandas as pd"
   ]
  }
 ],
 "metadata": {
  "kernelspec": {
   "display_name": "Python 3.10.7 64-bit",
   "language": "python",
   "name": "python3"
  },
  "language_info": {
   "name": "python",
   "version": "3.10.7"
  },
  "orig_nbformat": 4,
  "vscode": {
   "interpreter": {
    "hash": "aee8b7b246df8f9039afb4144a1f6fd8d2ca17a180786b69acc140d282b71a49"
   }
  }
 },
 "nbformat": 4,
 "nbformat_minor": 2
}
