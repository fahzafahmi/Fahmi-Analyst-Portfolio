{
 "cells": [
  {
   "cell_type": "markdown",
   "metadata": {},
   "source": [
    "# Apa itu Functions?\n",
    "Function adalah sebuah blok statemen yang hanya akan dijalankan saat ia dipanggil. Secara tidak sadar, selama proses belajar ini, aku telah mencoba menggunakan fungsi-fungsi dalam bahasa pemrograman Python.\n",
    "\n",
    "Fungsi <mark>len()</mark> untuk mengukur jumlah elemen dalam sebuah list dan fungsi <mark>print()</mark> untuk menampilkan pesan pada layar konsol merupakan contoh dari bentuk fungsi yang telah disediakan oleh bahasa pemrograman Python, atau dengan kata lain built-in functions.\n",
    "\n",
    "Selain fungsi yang telah disediakan oleh Python, Python mengizinkan aku untuk mendeklarasikan fungsi dalam kode yang aku tuliskan yang dikenal dengan user defined function.\n",
    "```python\n",
    "def nama_fungsi(argument):\n",
    "    statement_1\n",
    "    …\n",
    "    statement_n\n",
    "    return returned_value\n",
    "```\n",
    "Aku menuliskan dalam catatanku:<ul>\n",
    "<li><b>nama_fungsi</b> adalah nama untuk fungsi yang kita definisikan, memiliki aturan seperti penamaan variabel</li>\n",
    "<li><b>argument</b> adalah variabel masukan ke fungsi, bisa tanpa variabel, satu variabel atau lebih</li>\n",
    "<li><b>statement_1 … statement_n</b> adalah algoritma yang telah kita transfer dalam bahasa Python. Ini merupakan inti dari fungsi yang kita definisikan. Seluruh statement adalah menjorok (indent) ke dalam seperti yang pernah dipelajari pada conditioning dan looping</li>\n",
    "<li><b>return_value</b> adalah variabel output dari fungsi kita. Bisa tanpa variabel, satu variabel, atau lebih.</li>\n",
    "</ul>"
   ]
  },
  {
   "cell_type": "markdown",
   "metadata": {},
   "source": [
    "# Fungsi Pertama\n",
    "<mark>contoh_fungsi</mark> merupakan nama dari fungsi yang aku deklarasikan dan statemen-statemen di dalamnya disebut sebagai isi (body) dari fungsi.\n",
    "\n",
    "## Tugas:\n",
    "Untuk menjalankan fungsi yang telah aku deklarasikan, aku dapat menuliskan potongan kode berikut dengan mengetiknya pada live code editor pada baris berikutnya. Pemanggilan fungsi contoh_fungsi() akan menghasil output:"
   ]
  },
  {
   "cell_type": "code",
   "execution_count": 1,
   "metadata": {},
   "outputs": [
    {
     "name": "stdout",
     "output_type": "stream",
     "text": [
      "Halo Dunia\n",
      "Aku sedang belajar bahasa Python\n"
     ]
    }
   ],
   "source": [
    "# Definisikan fungsi\n",
    "def contoh_fungsi():\n",
    "    print(\"Halo Dunia\")\n",
    "    print(\"Aku sedang belajar bahasa Python\")\n",
    "# Panggil fungsi yang telah didefinisikan\n",
    "contoh_fungsi()"
   ]
  },
  {
   "cell_type": "markdown",
   "metadata": {},
   "source": [
    "# Fungsi Kedua\n",
    "Sebuah fungsi dapat menerima serangkaian argumen pada bagian dalam kurung setelah nama fungsi telah aku definisikan.\n",
    "<br/>\n",
    "<mark>fungsi_dengan_argumen</mark> membutuhkan dua argumen (<mark>nama_depan</mark>, <mark>nama_belakang</mark>).\n",
    "Python akan menjalankan sebuah fungsi hanya ketika aku telah mensuplai jumlah argumen yang sesuai saat fungsi didefinisikan.\n",
    "\n",
    "## Tugas:\n",
    "Ketik potongan kode berikut pada live code editor."
   ]
  },
  {
   "cell_type": "code",
   "execution_count": 2,
   "metadata": {},
   "outputs": [
    {
     "name": "stdout",
     "output_type": "stream",
     "text": [
      "John Doe\n"
     ]
    }
   ],
   "source": [
    "# Definsikan fungsi \n",
    "def fungsi_dengan_argumen(nama_depan, nama_belakang):\n",
    "    print(nama_depan+\" \"+nama_belakang)\n",
    "# Panggil fungsi dengan memasukkan argumen\n",
    "# nama_depan yaitu \"John\" dan nama_belakang \"Doe\"\n",
    "fungsi_dengan_argumen(\"John\",\"Doe\")"
   ]
  },
  {
   "cell_type": "markdown",
   "metadata": {},
   "source": [
    "# Fungsi Ketiga\n",
    "Saat aku melakukan pemanggilan fungsi dengan jumlah argumen yang tidak sesuai, Python akan mengembalikan pesan error yang menyatakan bahwa terdapat argumen yang belum disuplai agar fungsi dapat dijalankan dengan baik.\n",
    "<br/>\n",
    "Berikut ini adalah contoh pesan error yang akan dikembalikan oleh Python saat aku hanya menyuplai satu argumen saja untuk <mark>fungsi_dengan_argumen</mark>:\n",
    "> Type Error: function fungsi_dengan_argumen() missing 1 required positional argument: nama_belakang\n",
    "<br/>\n",
    "\n",
    "Bahasa Python mengizinkan aku untuk memberikan suatu nilai default terkait dengan sebuah argumen dalam sebuah fungsi. Melalui fitur ini, suatu argumen dalam sebuah fungsi akan bersifat opsional.\n",
    "<br/>\n",
    "\n",
    "## Tugas 1:\n",
    "Aku mencoba mengetik potongan kode berikut dengan live code editor:\n",
    "\n",
    "\n"
   ]
  },
  {
   "cell_type": "code",
   "execution_count": 3,
   "metadata": {},
   "outputs": [],
   "source": [
    "# Definsikan fungsi dengan nilai default argument kedua adalah \"\".\n",
    "def fungsi_dengan_argumen(nama_depan, nama_belakang = \"\"):\n",
    "\tprint(nama_depan+\" \"+nama_belakang)"
   ]
  },
  {
   "cell_type": "markdown",
   "metadata": {},
   "source": [
    "Argumen <mark>nama_belakang</mark> menjadi bersifat opsional saat fungsi dipanggil. Jika argumen kedua tidak disuplai Python, akan secara otomatis menset argumen <mark>nama_belakang</mark> menjadi string kosong - empty string (<mark>\"\"</mark>).\n",
    "<br/>\n",
    "\n",
    "## Tugas 2:\n",
    "Aku mencoba mengetik potongan kode berikut dengan live code editor:\n"
   ]
  },
  {
   "cell_type": "code",
   "execution_count": 4,
   "metadata": {},
   "outputs": [
    {
     "name": "stdout",
     "output_type": "stream",
     "text": [
      "John \n"
     ]
    }
   ],
   "source": [
    "# Panggil fungsi dengan memasukkan argumen nama_depan \"John\"\n",
    "fungsi_dengan_argumen(\"John\")"
   ]
  },
  {
   "cell_type": "markdown",
   "metadata": {},
   "source": [
    "Potongan kode berhasil dijalankan dan mengasilkan output: <mark>John</mark>\n",
    "<br/>\n",
    "\n",
    "## Tugas 3:\n",
    "Aku mencoba mengetik potongan kode berikut dengan live code editor:"
   ]
  },
  {
   "cell_type": "code",
   "execution_count": 5,
   "metadata": {},
   "outputs": [
    {
     "name": "stdout",
     "output_type": "stream",
     "text": [
      "John Doe\n"
     ]
    }
   ],
   "source": [
    "# Panggil fungsi dengan memasukkan argumen\n",
    "# nama_depan yaitu \"John\" dan nama_belakang \"Doe\"\n",
    "fungsi_dengan_argumen(\"John\", \"Doe\")"
   ]
  },
  {
   "cell_type": "markdown",
   "metadata": {},
   "source": [
    "Potongan kode berhasil dijalankan dan mengasilkan output: <mark>John Doe</mark>\n",
    "<br/><br/>\n",
    "\n",
    "Full answers are written here bellow"
   ]
  },
  {
   "cell_type": "code",
   "execution_count": 6,
   "metadata": {},
   "outputs": [
    {
     "name": "stdout",
     "output_type": "stream",
     "text": [
      "John \n",
      "John Doe\n"
     ]
    }
   ],
   "source": [
    "# Definsikan fungsi dengan nilai default argument kedua adalah \"\".\n",
    "def fungsi_dengan_argumen(nama_depan, nama_belakang = \"\"):\n",
    "\tprint(nama_depan+\" \"+nama_belakang)\n",
    "# Panggil fungsi dengan memasukkan argumen nama_depan \"John\"\n",
    "fungsi_dengan_argumen(\"John\")\n",
    "# Panggil fungsi dengan memasukkan argumen\n",
    "# nama_depan yaitu \"John\" dan nama_belakang \"Doe\"\n",
    "fungsi_dengan_argumen(\"John\", \"Doe\")"
   ]
  },
  {
   "cell_type": "markdown",
   "metadata": {},
   "source": [
    "# Tugas Praktek\n",
    "Tepat ketika aku baru menyelesaikan latihan tadi, aku mendapat pesan masuk di email. Dari Senja.\n",
    "\n",
    "## Tugas: \n",
    "Aksara, pekerjaan terakhirmu baru bisa saya review sore nanti. Saat ini, kita sedang butuh bantuanmu untuk menentukan nilai rata-rata untuk data yang sudah saya buatkan dalam bentuk list of numeric bertipe int/float berikut ini. Tolong kirimkan hasilnya sebelum jam 3 siang. Terima kasih.\n",
    "\n",
    "> data1 = [70, 70, 70, 100, 100, 100, 120, 120, 150, 150]\n",
    "\n",
    "dan\n",
    "\n",
    "> data2 = [50, 60, 60, 50, 70, 70, 100, 80, 100, 90]\n",
    "\n",
    "<br/>\n",
    "<br/>\n",
    "\n",
    "Aku pun melirik jam dinding kantor. Masih ada satu setengah jam sebelum deadline. Harus segera dikebut!<br/>\n",
    "\n",
    "Aku langsung menulis kode dari data-data yang dikirimkan Senja tadi:"
   ]
  },
  {
   "cell_type": "code",
   "execution_count": 7,
   "metadata": {},
   "outputs": [
    {
     "name": "stdout",
     "output_type": "stream",
     "text": [
      "Rata-rata data1:\n",
      "105.0\n",
      "Rata-rata data2:\n",
      "73.0\n"
     ]
    }
   ],
   "source": [
    "# Dua buah data yang tersimpan dalam tipe list\n",
    "data1 = [70, 70, 70, 100, 100, 100, 120, 120, 150, 150]\n",
    "data2 = [50, 60, 60, 50, 70, 70, 100, 80, 100, 90]\n",
    "# Definisikan fungsi hitng_rata_rata\n",
    "def hitung_rata_rata(data):\n",
    "    jumlah = 0\n",
    "    for item in data:\n",
    "        jumlah += item\n",
    "    rata_rata = jumlah/len(data)\n",
    "    return rata_rata\n",
    "# Hitung nilai rata-rata dari kedua data yang dimiliki\n",
    "print('Rata-rata data1:')\n",
    "print(hitung_rata_rata(data1))\n",
    "print('Rata-rata data2:')\n",
    "print(hitung_rata_rata(data2))"
   ]
  },
  {
   "cell_type": "markdown",
   "metadata": {},
   "source": [
    "# Tugas Praktek\n",
    "Sudah setengah jam sejak kukirimkan hasil susunan kodeku pada Senja, ia segera membalas pesanku. Untungnya bukan revisi! Aku lebih suka dapat tambahan pekerjaan dibanding merevisi pekerjaan lama.\n",
    "\n",
    "## Tugas:\n",
    "Aksara, yang kamu buat sudah cukup. Tolong buat satu fungsi untuk menghitung standar deviasi data dari data yang sudah saya berikan tadi (data dalam list of numeric bertipe int atau float).\n",
    "\n",
    "> data1 = [70, 70, 70, 100, 100, 100, 120, 120, 150, 150]\n",
    "\n",
    "dan\n",
    "\n",
    "> data2 = [50, 60, 60, 50, 70, 70, 100, 80, 100, 90]\n",
    "\n",
    "<br/><br/>\n",
    "Baiklah, mari kuselesaikan tantangan ini. Kubuka kembali layar susunan kodeku tadi, dan mulai mengutak-atiknya. Kuingat kembali definisi matematis dari perhitungan standar deviasi, yaitu\n",
    "\n",
    "<img src=\"data:image/png;base64,iVBORw0KGgoAAAANSUhEUgAAA/MAAAC5CAIAAAGcssj1AAAAAXNSR0IArs4c6QAAAARnQU1BAACxjwv8YQUAAAAJcEhZcwAADsMAAA7DAcdvqGQAADDYSURBVHhe7Z3LQes8E4bPMnvWFMCeCiiBBk4LtEAR9EAR1JAeqOT/X/KK+eZIsuNcnMTO8yyCNLqNRvJ4fCH58z+4Hlj/mizP+p+fnyW1fNj712Tx1n96evr4+CiZpbF4639/f5fUAlm29f8kimhRLNv6j4+PJbVMFu959u76v3//qs5msyn5W+J2ra99PRRc7jxNrbklX19f2+3W2arODYaqt2v9ERTnCKdlbieC7javVuJGWKT1ha0ZNr1Nx7KXpVrf/DiXX4poUSzb+osO9sWSrK/opaR+CafP3r8ELy8vJbUKlu15lg7WvyZY/5pg/WtSrH/cVfjESGO+S/xWgSOCnzaUynQ73DvKRDV+KumqXQbKDRRaPDw8lMwOl2ahm2SJsu1MJMzWf319dR0lLFGFuG0gPJCa+O6YeX9/l1BN8jWti0Li6FMSZyuyDnGVoMoeyM9n1EPVXIpJEuo5YcVsNMtjUm9vb/pUqQjL5KEl12fo3Nf1ONz1dHw7bJxD+1wWa57b7YP1rwamvxqY/mpg+quB6a/Gsk2vIDUuFBbHIk3vkF+fgeXLYmFK+xIxbL3oV3cWZvoj3Eus0625poWZfuddCiFxokJy32CJOyf5psotsDzTO+E7a4tmYab3Rh7a6ctiYXOQ08iuJrBkWaxh+yyUJZl+yL+z6+EwMP3VwPRXA9NfDUx/NSaZXhcy+R2CKqIYCjB8+XMuRm4DnCXCmfs2Q2uNf5RWsabhmXx/fzvroufnZwtdIW6M5CbGVz1CRW04OPTStpsMzT8XZa2Eh4tXYn56+bdn0b5pI+J9Zk9K/cQQFX4tx+l4zSbvRfXvtnmUrKdKszVKZWcqVnCH5Pbpmx4uAKaHe4R9Pzs63V6LogE0YBq4R9j3cI+w769P/AcRXAz2/eUg4L4dWInLkfe971qXzC8cGBcDQ8+LH+eIn8cyO5w12ujxb9Vn5OPjY7n//3EZ2PfHkB8hjjMldq+6iqwTe7+oyQ9vXdmPMec4llbGpMWDcbTngiL6pZVUtF9qHk3imBk/eHRgLP1bii8P+35eYss68Ki+JmXoqKgcdvXtOUOw+6fDvp+X/J6Ttq/fLxP+TqOKvScHOBcY+mpM9OIwB+x7uEfY93NB0HLLsDYzQiRzs7Dv4R5h38M9wr6He+SffT/rpVjV+Xh2nPf393jvRby+vlbvvYhrPcTpKtNlypQnmuWUt3G+vr5GjLn3PYuDFu5EpoxVTWeIfzqKH4jQpxq7vbMyhx8ixti5NHh+fg5Jt+Z2u/WjnCj1+yfOxoWgs24otBLxAmMUeXmc3Ww21X/YO+HS6iGRhYEGzZLoUJ/qM89am0CV83TiMyujtJvHdCpbeTM5WxnEn6GwslbATeJ7FES8txOVcx2lwwhCCmhp8ob2QNZQpVlDVctdyYPkp2/Rs+u4iXBXkVVprEheYn9m3VRTQss1l1ZJYU0iGx3aONEkpmNJ1BdhZ/NfgYZ3bc1TLdWjvYgb6zMS6l01c6nIS2KiplCHdsAxihtqAu2q56xaSRO/xJLraHS1VbfOVm+5uKETGlEorfqafDSp1BBKhMSfqqxP7RjPzlmh0XM1raKaZ2Wks1DW+le2Us2oHAbREOpEwlBYuI4UkJXUJFYuz1d1ZGdNTYlQzH0aS/LBr648hIqkocZVD6GSOs9dSf/YwSJ6DgvrU5VFZIVLhTqPJdag+vRYLhWxELt5/2ilrjzf6E3yyOYOd4X/rYskno6I+jKshlAPMdDP5091gDuDfQ/3CPse7hH2Pdwj7PvZ0YXUVSjDQw+sMy/5vgrcDuz7eakeHcCNwL6fl3yjGm4H9v28+EEM3Brs+3nZe33JBehVwOjzMr6tFf1vt9v2FQ+YG/b9vIzve5dy7Xt52PfzEvE9F7g3Bft+XvyWYsXn72+vVZRimB9sPS9Dbp5dfl2w/ryMPK9l618RTH8hdAC0x8BMW5+HBnth31+Tl90/OpXML4ceDKrvJt/p22RHzjMg2PcH43/D81Y7HfWT92ugQ0Kfez23/4kxevCjgPh3RBiCfX8Y3o7xz6NT8EESFGmi+ufgIJ5n5f8fDSwRVVrHgJx9/sdtaGHfH4Y3WbXVgiI6hJFWLtq7g/M/fR+nwx2CmS6BQhE79Spu6W5T9u4FwMQXwrs5384ficLzxS5Byxyw7y+BIvU2iG93c/cCF+aAfX8JHN7k98/adzB9xQyXgX0/I3ET3bs8AncdBkq3uBQuALaeEd7BvFnY9zMyErpU3t3fblkyMD/YekZGnra2u5x9f0mw9fnxiwxKjGzlqkhXAuz7S4Kt50LBPVv5ZmFh5mKz2bDvbxYWZkb2vk0J14J9D/cI+x7uEfY93CPse7hH2Pdwj7Dv4R5h38M98s++n+85y/v7e/5mi+rG9kH/pi0qPbtqX+uZ0cRxu98fWNG+oz/EKZMdN+Z4z4cu3ClMHGuiKQ6Y5F7cfOjl27zvT6Q6bLpqV8ITpzadiw2UOWXQcWNefjonjjhlb4gidXFUen5+1mf4G2ej1InKGynbvnbrmm6ufW+domEuVduquSu7jj8fHh78n3guivq5jnD/kfX/qlZ1gvafXNWtv5HGlbO2eXQfxv6FfiUqZeI/BqtOTPzjVWUQU32TlP2chsv/lxjOJVtpu93mH7D3p1H9+NoFy9Wbp+DR1dAVxrvK2dDB2erbzKWYVtZFXuIgehM5nVeqMkLMPXcoyyhricjTqZajtXNpE+ZzY2NhWNx9aU/kvqK+s/k/RKOmcT/6DKGDHzcU0ZUJleKzGiv6yXWqrGrmynHkZLxgYSnhgdykWl3hDitto1SJsK96trzbRFQGETt9fyqbWO+KPFx8atysee42p9W/tnWM6+GighNDXeVsWEYLLT0ja5ytlljIztGbiPTPtJMmeY9m2g6jBydyJ5Fo7fxfcSikIT2qPz8+PrRdVKTDS/bSfKKaS/UZieg619SnepDGSsTBYIeqQd2PsIMJqh70GR7FWTX0Zs11hGYeDTWcUEJZz0KfYQLpYDV+mv0iSZ6LPqOHn+LfrlxHn2GrShlNZ8hW7kETVEKdu44kGnqnbwn9KzVygGuh0BAxiiY+tFmlWzhdZTWWWuXhJLF593YVn7H5lFU6ssZZFcUSW6Jxc83oOTSRRPX1qflKQ5c660TeMyJ6yNOJ5dCsJVEdf2r0Xd1/4/sh3LV7vAAx2/nQnispuEsm7XuAlcG+h3uEfQ8AcBfg7gEA7gLcPQDAXYC7h8Xj58oAMA7uHpaNfD3uHmAKuHtYNvF2JQCMg7uHZVO98Q8AQ+DuYdnkf7o6FP+vm//D7P39/ZSuAG4f3D0sm/i/2uP42P3b+Pf3d/zXNsBawd3DsjnF3Uc4r04I7WH14O5h2ZwY3QPcDxwqsGyGvpzNWQAIOCpg2XRfxBxy95KL+HLSIVytZADWAnsalk33f6xGnLV8/RRvvrcCwOJgT8OC6fr6792vGIx/f/zO4f/8KkHJA9wBuHtYMKf8S+3X15edfsnvY7PZ7L0LdC50Hnr49ye9/Hstmu8pU4Y7B3cPC+b0f6mVE5fHH3/pXs7X3vbCPD4+5h/y0/UKlyNwCrh7mB35U8Wq/hfWIvqXnxi7RykeZkqdvfjmz0hXbZGj7OfnZ03qLF/Q5iHk3/0rjUEMrYTObcYSgEM5w9ECMEL2lUqf99src+dHIw877kPbUXyGKJkd8vvjTwvG0UVGN3I/ywQBDJsJ5uX19fXt7U2uUB4t35o4C6d7wyk96HwQd+1V301eXl40r/yT704chK94fApUQlbKp0P1f5WbSLBWcPewYKrnmeLHGSfPm9MVcuLhrPcyfvtePvrsT1Cl3tnPjnDn4O5hwVQ3YRQOy0XqMsKPXnVh0b3B0t6KAbgH2PSwYKqYOpy4E12frguCKXdIOB/A+mBPw1Kp3op5f3+PO+z5nnjgoH46pRnAWmBPw1KpvDkAjIO7h6Vy9qej5unpidAeVgnbGpbKcf9wNMWV4+5hlbCtYUlkF3+EU/7+/p7y8iXuHlYJ2xqWxOfnZ/hinDLAQXDAwMLwWzdK4O4BDoIDBpaHX6k87t49wN2Cu4elMv0rEABA4O4BAO4C3D0AwF2AuwcAuAtw9wAAdwHuHgDgLsDdAwDcBbh7AIC7YNDd5/9WvzD+J5r4DYqvr6+DNFHlka/GHe/qlNK9PD09jXyJ47jamRPVWBzTLTORcxnwuH5GWp2omJpninQCp+zMgwYyebjx5kd0fiMcpPm4hcdX5yBqneRqHx4eNPzz83PW2NlwwUpLCamYhUJpSQJJttutaiq9t23gX7JWqT6VbX+Cru1TvL+/S2Llw3Yyk7KbzSZ6UNYJoZ7dpOR/Sx8fH9XEkkDCaKuEF0CqZqHwv/j7P4BsjfjF0bxs0taq5t+8ltpVk4yLPPEi+hVKN2fdp1G2a6iMV8HD7Rr917OJWasfm9Fn3/wvThpFRRK6Hy+EerbxJdGnmivh4bw6bqIOlchLMGQZJdxEq6a0JNYtTKq0RvEQ3flan7yOwkJPTVnb07hCZeGM63i+TosYxdmKXDOYopj3qhLWp90hljstO1QWUCc+hPPC2Va2v4azUFvado4hlLb9RaWVUFaf7jyEpquz908M5wqmMrW3gdMm2mpvRFF1FHvDG2W7Ew8qDS2s1LA1jLLtxsu4rXUookbDWGgn4nhxadBdnerocM/GPbQLlPlPJ6GqPiyFB3M6EiHMNWMkJfIh6kQQkm7bTNR0ou0qqGoapas+u3MJKn2cyE2CkKi+WjndbaJE6NBtFYw3CbKkLe3qk+kKA5XGXhRV5ch2J1gNbaESsRNEZeHuNHPahMRNpGF/B/9WGxrF5P5z2qhyCNtSMbR2ahh+QbSj6NNYqFlUnjqKRE6bIcXamkbHedV/hRraMpEQQ7OLRNQ007XqllZ7xolgb6l8XMkkqtV3IiNhTNyEvLuvQo082UwrzJK2dERDZSsLZ0k2SBA9tAOJQZ3L3x05VvU5x+nc0pupUt2a6QivDKcO2xl22wYaNyRaV23fqkK3TyXymcZNolRFuWaV0Chth+oh0kFIdA6PYKHbRIlQO4QaxcuWJzXeJMiS3MQJeZzYECHsGqrF3ioqKFQPNUwUdScoU8QoQZQaramm7HQuit6E0+OWUcLbT8Zv5zu+rySJzRlNItHdISLS2cKBSx0OhyRGqRQwuXOTm0RpJPYqltH0u3IHxU4rYcWkc/jNiB+jmlRqm4Rkulbd0jgQRNtPdzMHua2ICt2juDvximqIyIYauZPuxguyJNKR6GpolK10667O0NGhYzbSTuQFynRERyMDxcZVunv1tGi6FlwWe6dwyTmuwJ4AC+Kcx5tOg/LyOobzWWg1KIwtKTgHvsuZIzUAmBXCKwCAuwB3DwCwfvD1AADrB18PALB+8PUAAOsHXw8AsH7w9QAA6wdfD8vmz/1RZg5wCOwbWDb4PoApcJzAssHXA0yB4wSWDb4eYAocJ7Bs8PUAU+A4gWWDrweYAscJLJv4fnAAGAFfD8sGXw8wBXw9LJv1/TYOwBzg62HZnPKbJzpPxO3+zWbz9vbmNMD6wNfDsjnF18u5v7y8VD+sCrBK2N+wbE75zUvF8vH58PCwkwGsE3w9LBg5+lN8/ePjoz4d0b+/v+9kAOsEXw8LRo5+u92WzOHYv+uTl3lg9eDrYcGc8jRVQX28w8PNelg9bHFYMKc8mAW4K/D1sGBaX//9/b3ZbDgHAFTg62HBVPfZHx8fPz8/9YmvB6jA18OC6T5TlbDr6/8cAmcLWBn4elgwcsollRjy9e/v7/bjJT/A29ub6uDrYWXg62HBdB33kK8Xj4+PauLX6kfgjj+sD3w9LJhDfb1QEzH+n1MqxdfDysDXw4I5wtcLu/vv7++SB7gD8PWwYLq+frPZjH+5zefnp919yQPcAWx3WDCVv1ao/vP9OL8UaQ9/m/HeG/e3w+vrq65Xvr6+Sh7gQPD1sGBOic1/Avs/fyZ+y8LHx8clTwy6LsluPaYZCYBDYevAglGoW1JHsfP2+2/c6xJh1l+/shqBhXL37de6RSnAobB1YMGc6OsVO2f3OsS1PGw1rr9nH+A48PVwCV5eXnZO9Ycz/tTf6W9Gvr6+SqURN6rgOpf6+3bUymm1tfxobBmndepS1mmRO1/QowW4TfD1MC8fHx/yWe/v75+fn0oXaUL+WhVaSvEoZ3kLXr57ZDgNkf2vcX3537O4YA0hnp+fdV7Jj5Tl+m0xlSotCO3haPD1MC9yi3FDfKIHn05cIqjnEVxnCJ+NSqZBHlautmR+Uf3K7apaSf2yG7lDKf4X9da+YxND/7xU9IuLAA4FXw8zIt8UPvEsdzwy6vAsvm9cKwX1ra/XpKr/vD1FkyHLdE8zAMeBr4cZkQeMgFeJ9maIkDv7CXcbSvEw6vwUD2s00Hgn8ulVzK5ZbLfbfPdmaGoTUfPufCXkhXo4F/h6mBd7sbe3t7Pfaz7d0ctfV368Szhiufg4NygRFxYfHx/jX7AzhDoRSuhUIRNVb3a6COAssJlgqbT3N+S4s++ushXyzhOdafdV98xZntBW6CwyojzAoeDrYal0fb3cd/hlZeOxcMWhDw/GK589AJd6Z78MgjsHXw9LxS+5Z+RzX15eIsoeccEqOvRWuE4tQ9G9ejtjaH/0HSGAEfD1sFTaWxzyuTlgH/L18sunPEoFWCL4elgqra+3RC7eAXjXoU98Sjx0ngBYKGxoWCqVO37f/WuuEq+vrw8PD91bLhNv009/bAuwFNjQsFQqd5x/n0RFORtIvvc2vc8H7UUDwKLB18NSqXx9zipdlQp5f8ungK+HlYGvh6Uij1xSv348Xl9RovvkdjrtC50AiwZfD0tFHrmkAGAfHC2wVI7z9fyPEtwn+HpYKjN9M4FOIX6fB2BN4OthqRzx+PTnTvy+q4G/f//i62F94OthqRzh67fbbfvNChX4elgl+HpYKke8KvOy++r5khkAXw+rBF8Pi+Hr6yt/KdgRvn7vDRyBr4dVgq+HZbDZbN7e3rKzPsIjP+0omR67+/mFIgJYBWxoWBJywQ7nFeMTfQNMB18PS0L+3RG3Evh6gOng62FhyNe/vLzg6AEOAl8PC2O7+4HvIx7MAtwz+HpYHpvNhmenAAfBAQOLBF8PcBAcMLBIuj9FAgBD4OsBANYPvh4AYP3g6wEA1g++HgBg/eDrAQDWD74eAGD94OsBANYPvh4AYP3g6wEA1g++HgBg/eDrAQDWD74eAGD94OsBANYPvh4AYP30ff3r6+tCvx98/FcsVDRU+vX1paKnp6eSPzcPDw9DQ4vpP74xq5I3yNl/lkS9nd6hD5Dz/g7iWRQ7glN25k7lI3We+4i7Imec1/jqHMTYKpbUxammp/THx0fJTGBEcx2cI6V///4dWaHx0imMm3S8NDhdjcUx0TITGd8D01EnR/j6kdFPVEwbQ82DIp3GeP2R0uN0jibjm1lFqlAyi+LQg/Ro+x/EYC/nGuAINLSiiff398g6MZGR+uNbc243Oj6RidPce3gc4YBunEM3wDjje0ClE/eAOjmvqccVm5XxccfNdYrOcxxx6lOUzDk4YoLnndfRq1NR15OWavz4+Ji78IrK/35/fysbpZqPEhaK7XbrkNz4SHCHe9tmJFcg72rOOhFUfRr3/PLyEvWlj0eR0JK8NZV2k9gZXiEPHcJAQq9fNk5c4cZdLyugoaWbSlV5V/GHaCVcrSp1E49SoQ49lkqjgk6HNrive5RV2lj/rqEyrqyE+lRCo1geSKgi201zlOT5+Vnp3KHnIrmzcVmmhNrm+4FRZFV1Fe+2b29vriC6ltFnzM5Cd6sOnY1F8UTa+Uri0a2/hdUOUVbpQJLKwhkJvcO9LjZOjNK9Eu3qNkUxobSwhiqyMFAnUiN0UB3LA1nYesrmRfS7lHlctQ2hJSJKW628MXw3JoSBhKLS2ZN12kec05Wp3Wd1GMYqR6I6iq2Pcc/diQcusvXcQ6WGt5nxclcbL6OZukMNHfOqNIx5qX8lJHGTXd1/aFdHVEeH2xpl2wXK/DOG6sVR58ZCuobeIYzuVD8LI2FLqaGGV0IWlFq7wn7bjEtdpGXwDg6G+nTCpnS6TXgrOB2rFRItQNskUGlrh9yhEq7gVfTeUkJ67sr/axUJ6ZAN3jYx+ejV2nsUDR0rmnuW3OmuoVrcVkN394dmnY3sTRbbVKhU6imhiWT7qDfvPGctF5FWIi+BVY3SyjL61CixxaOaRgmvJKGn0N1XIcmlbSKvctfCgSQ2dVjAwkiEMNPtx4lxxbzT3KcSscoZV5aVwlBGk/KOkpFzz121I+Hd6PRQotLKixgM6RzNw9oqak2tIlVwOlCpZqc+Xa09inOr7sQz1lCWV0KVu2rkhpHOG8+ESiIOUtHVUEilvHWdCCQZWZ04Oqy/haKtmflHNNRMPUa6SohWqJlUi5R16rYNNAdvMh1CWif1U22gIPocmnAQkqqmCYnGkuZOt9W6pXvnlU3R9tktba2XJVmNIOsglZwOurMO3GGcUFU595CHy53kEZ0QXaEYqhMDae+OTNk1K/9l9qpncjV1VZWKkOSamW4TdSXN45jMbUN/VTOWR8JMVyyXRucVqjByUjfRSR4rp40kGjHSTgQhyVrlJmZI5xDm6QfdJkGUVoy3Eq5glYTHzRpWhLxbodU8j7t3XlX82g6RJW1pjDWkf19Y/u7oDqBEtYSiW9PeOZ/f5LUlVPOsU7dtEKdBtVVpu3fbPjXtbp/qSjbN+mQ11InPjSHJK5Q7NN3S3GFuEulYFRFCaSW5JtItzUKjopBUajhsibZKSCWnu8ZvUQ+5tKpZDeeEiHS350o41DBU1RCOp4Ys483grJDOWlw136ueUZ2olq3R7pDcoZC8snAgibqSheO4zaN0UVdVMJibjCuWS9UkjJORMta2wv34Utud5N5E7lkL4ShYdSyM0nGtchMzpHMIq+WrTN2dZpSa9ijOrdqJV1R2EMpWauQKKmo3nlG1GDeXjmto8hCi0irS7dFR1WwXKPOPSDVUL9JOqH1o1paKSGtWTgRRlK/6u22DqnSkQvSZHUFcrMm+Ye4oDdPokItJRWleoRAG3VKtfaRzk0jHqoi2pmLVtjQ3MdI2olodilZD1tZ0LIy2+WgPYTZ+hXrTmqrztpUZskmks7DVx0Q2X0orketXB2RrGS1obLCo5t3vdAhFTgu1DUksWXeHSKgN73TXwoEkLlVCO1AJ9dweAhlNKjo00xVTw0irtNohwj469kkmGmYvEAnhdD6OlKjmvler3MQM6RzC2F1dU3enGaWiexRL6LhBhHDI/WUNRVcNJeLWQgjzxjPdg7SrYTuvrIPJkkhHIo6OvGTdBcr8I1J7VdKntrsSnqHNJO1FTEYS+/1qfwRx6Gp42SXbVIm2rakkUqMyqBjq0+e0OGDsVmIuXkJVcKmrqVQzUsL6qNs8wVhgo8rZlOpWBsnHqhIeJW8sdehWWaiE94o/Jclzcc9OByqVUFtHmquCJMpqa0orJaKt9ZFQKOEhKkM5IVTqrG0VQieMmof/Uh0tkBJ5Lh5dw0mrttSoSJ2oq+qU754lzENUlqmayAJOaFyR3auEXsd2XwlJ1KGahDW6O8Q1JVS3qqxPpZVwk4wk3uSer4dWwsdhW19IGKMEEk5RLNtBWsk+TgvXdzUlpEk1ivoR6jBvV3XSzk4JjyuVlJAkxu1qpWxuq+Vw2gzpHELZSijRNbWKvAcyUSq6R7FXX0K13c27nngmayi6amjLWXkvkIpE3niBS/NB2tWwmpf3T8n8os5FpYkS1dERQlXuLlC0FfUYRyONPT3hUZ1eDbZ7ySwTHQY+tEaoDtf5iO0IABfgbB7ZZ7OS+fd8sg50JtM5rGSWyV5Hf0nw9QCX5Jwe2Zcbwhfaa0JXTL5BAWfBV3668Cx5AJiZtUXfAADQgq8HAFg/+HoAgPWDrwcAAAAAWANE9gAAAAAAa4DIHgAAAABgDRDZAwAAAACsASJ7AAAAAIA1QGQPAAAAALAGiOwBAK6JfwIE1k1ZbACAmcHdAABcDf9iG7/OCQAAZ4HIHgDgaiimJ7IHAIBzQWQPAHA1HNmXDAAAwGlwRgEAuBp///4lsgcAgHPBGQUA4Goost9sNiUDAABwGkT2AABX4/n5+enpqWQAAABOg8geAOBqKKwnsgcAgHNBZA8AcDUU1v/9+7dkLsh2u9W4Ruki/d//3t/fLVSiiAAAYDkQ2QMAXI0/f/4ojC6Zy/L5+fnw8LDZbPRZRDt0sfH6+loyAACwKIjsAQCuhiL7a90df35+1kXFx8eHdHh5ebHw6+tL2XwXHwAAFgSRPQDAdXAYfZWfqfLQ39/fSr++vsYFhsL9iPIBAGBxENkDAFyHK/4ArSL4/MrN09OTNPH9ewX9RQoAAEuDyB4A4Dpc6wdou88KNpuNhIr4Sx4AABYIkT0AwHX4e40foFVY//PdNzuKaIe/LYc37AEAFg2RPQDAdVAkXX0vzRDf39+7UPw636IDAABLgcgeAOA6/PxI1fDPVDma3+z4s4PIHgAAxiGyBwC4Dnsj+5L6/Q9XInsAABiHyB4A4DooXp8YrB8U2W+3290t/lng6gIA4JYhsgcAuA7TA+Uj7tm/vLzsQvEfNpvNif8a+/b25q6I7AEAbhkiewCA66BA+ePjo2RGOe5tnK+vr3hHX+QvsD8CXyoQ2QMA3DJE9gAAV+Cgn6k65T17/8SsUaB/9A9RWWEiewCAW4bIHgDgClwsshff39/55v3Ly0spAACAdUFkDwBwBRzZl0yPr68vBfSO6QMF6BaWSoegC4PSy2k37wEA4GYhsgcAuAKOs0vmUnx/fz88PDi4F8/Pz6XgfPhr+DXKmn7O9v39/fHxUZ8l38OG1dx1zaaafkgy8ZkMAMC5ILIHALgCCgGPu/V+Ooo7d4F94Vw3793til/10UWL4vuhxx0K4vNPEPiZjFa55AEALgKRPQDAFTj6pZqz4CB1F9j/cPrNe9+xXtN9+iEcso9bTKG/6ozf4wcAmAMiewCAK3DdyN58fHz8xPW/HP3qiC8S7ufF/ZGnE75kIqYHgGtBZA8Ai0cxZX59vGU8ZvUr79MpzU5D8d+NvKqRb94fcbHhMHeooeQOc71Ajv7zE4PrGuFo9VxaXcxUMb1KT/wNAQCAQyGyB4AFs91u/a+Kz8/P+S1nSRSrlcxNIg1v5yVsv2EiZMwimszEX7CKl1je3t40yinv7ew0ncpEIx+qni4Jcueqvxut5ogrJQCAUyCyB4ClolDe8VP7S64O949+veQCtOrtpnIkpYujiKuj424wVzHuCL4RrtC55Bt8+/9aFzx71ctMnzUAwCUhsgeApeL7rO1t0Xh9PN/FH0HxmetPpDQ7AWt+Cxce/oVaRfYTbdVi643/R6nfb3HofIMvqByhniP79pISAOC6ENkDwFLxKxAKyEp+h8P6E9/3mBtH9tVb2hcmbtWfeOM5XkQp+YSEKn15eYnl8Ovs7VWEJL5CuOSXZk5Xr0ILp2pqVfIAADcDkT0ALBtFhL7bKpRQdm9kdnV8+VEy18Avxys2PYut/BZNFZT76kWxcr6xrQDa0XMlF356cLGrnUPVy3i/3cIjFwCACiJ7AIBL4/vTJdNDUaNDTFE9lBAKOn27/fn52Tebp6PQ2W0nvlA+EQfKR//DqC4wPJ2Sv1Wkp9Yl7vEDANwaRPYAAJdGkf3eIFgVFNMPReGKL48Io32rXm1neqzhSw6pfej9bF/qqJUUu8EX8cX7+7vsJq77DhUAwDhE9gAAl0ZB+Xhc7lvgiib9oovIN4kVQEsy8rpIy0y36s+IJnjo9QAAAFQQ2QMAXBqF9eP/Kvr8/Kwo3GnfaM/v5Cids3uJHk68VS+11Q/xNwDAzUJkDwBwaR4eHv4OfyONv3olV8i32+N2vovGcVfT64+wHf4OHAAAuBHw0QAAl0bx8Uhk71vsJbMjAnQlnp+fFeiXglF84//0W/XGN+xFyQMAwO2BjwYAuDSKj4feafGt8Tbuf3t7k/xh94U5e9+VjyuBszP+7wEAAHBdiOwBAC6KX6cZiux9a7z737GPv1/bX/ID+Jb/TNz+F1MCANwzRPYAABfFkX33DRkVBe03pqtJVw4AAGCI7AEALoq/yLJkAAAAzgdnFwCAi+JfZSqZmfEL9ye+QvPx8fHw8PDJl10CANw8RPYAABdFkf0i/g/17e3t8fFRYb1f3CeyBwC4fYjsAQAuisL6y0T239/fisir37TS0BKOUOol/JCByB4A4PYhsgcAuCiKrUe+zP6M+IX+03+jisgeAGApENkDAFyUzWZzmcj+YUfJ/MI9ewCAFUNkDwBwTrbbbXyjfBtYC8kvENkrENdAr6+v0kfR/NE/Q6vm/h59dXWW37IFAID5ILIHADgbin0j/PXdcQX3VUAsIfe/AQBgDojsAQDmwsH9ZrOJ4N630onsAQBgDojsAQBmxG/mKLj3b8c6sncRAADAeeEEAwAwL/HavYL7t7c3InsAAJgJTjAAALPjr5cRT09Pm82mSAEAAM4KkT0AwCXIwX0RAQAAnBUiewCAC+GfjiKyBwCAmSCyBwAAAABYA0T2AAAAAABrgMgeAAAAAGANENkDAAAAAKwBInsAAAAAgDVAZA8AAAAAsAaI7AEAAAAA1gCRPQAAAADAGiCyBwAAAABYA0T2AAAAAABrgMgeAAAAAGANENkDAAAAAKwBInsAAAAAgDVAZA8AAAAAsAaI7AEAAAAA1sDBkf3b29ufHSV/H3jK5uPjo0h3bLfbUrDj8/OzFJyJr6+vo3t+fX1125I/hMfHRzV8enoq+UP4+/fv0W1P5/v7ezfpP1KjiCajxXXbM67j8/OzOryWNWBu5tgz5+WmnPblzXXEcPd2mpPPfHh40Hwv7DNPOUMdhNyvRqlmd8o5rtshzMqsZ1L1LI7Yw6ccO/Nx8BGlmdsEJX83yAvYEWw2G61lkf4iuUpL5tzs7H3MnjtlsbRN1fC4o0jjqvn7+3vJX5xT3O7OYOcMO06xpM98Z1QG5mC3ZW53mU7xA75OPu/Z1Mpcxlwa5QhfdIrFFspVfObF7KwNoKlVGp7imbsdzoSvnY5bmsvg0KhkZuOU9dqLOhfb7bbkD+GUY2cm0x3c4x26POFZ6/Pl5UUJXTuWgh06yF1a8ufmx9wX95vapmo401E0N1c5Sw1xtCXj4cN8WwvOwo0v0yl+wNeW5/UDVuaWd/UpFlsoV/GZ17XzUs5xDv6OW5oLEA9tSn42bna9jj525jPdWI+6fHl4eNhsNm9vb5ZID2W7qtjoCnx9P9tPM9U8396Ok4RCYRWpiQNloUSptOPr60sDCY2orDTxgxhJ5AuEu3Vz7XtfaUnuxyJVb9PHHUKjq6HT0kEN1ZWzQgqIkukxUU/hLSKFPUHZQa0kEWrlOmJih5Lvmv6zWFHTQ/iyROQZiTiKVFOf2WhKl0oDuKZalfwOT6RqG6OX/I7Y7pq+tJU1hM2uTmwTDaGuPBcV5W0mbMY8lneUhN7Mqq8+lRW2YWChqnnokVFafICovhdL9eOxfrbGFGVUJ5ZP1ZQ2rmAL790AewlNpIAlUuZnyN3l6975Cmuu2bUHl4pkEJtReKBqVwgbLc/FNaWbK4jQSqXRv4je1H/OGnXoampVROmgUP/SzRtJDS08Zc/kUayk+s+ziDWyYYcOvZhLa1IlSqUBpJiaSG3rLGxeN7fEuM+RLSQlw9qqpnSg0unGaXE192M8SmWumItrKis1VC2mtpfotuR7nNFiRs13TTvua1wT4UVXwj3bGrKtJy7y/qzwdsrm8q5uB1UnkqvUE9GnpyZy/9M73DU96QwVWz1spbFKpQEOsrMNWFkv7FDyh+zqboctUc3GDFwaNhlyCBpUJnInqqa08caYvkBDhA3zHhOe1xRraGiVWrhTreAZ7Z3gED4G1VxdKavmMUq1MSYOMb4Qauushxsh9owtoE8N7bZ5M5xuOncrtV1f8pjprvUe/vFcGXW0G7Gu0JV7P3kOgZXOm8xG0YStupEJfrr790RuicYq+R0eJZtPi1QN2lVv+rhdXDMGygdDZMd36hQ91Zu3QjVr4ZpZPnHiQ9aQziWzw/apDhgLtbFKfkfMveQH6HbYLp8YVztPWVhY9dDtthXq8FC2Wutu258xmv+mCL9Q8j1UqjrVrEUrP1SZyg5i4gaYSGw8bULNtPUdKh2au2dXHVzjK5iFbl49BItjM5ygsKSqGbif1vhu1VWjOmY1ViU/bplsQ5ENYtRq+qF3hL8Ks5f8L135xC3U1VBMN07LbpA95rIyMkLJ/+K9Wq3dEL4fNFJ5DouFUIki2mHNqx6GcCfSX/XVMB8IQ6iJLF+ZcafIP5oMrVErn9ihaIWH2iqPorSF1SgV0baq1rVzd9bKSpj39vRdPWTGCldTFFSZ0aj5FIcwNJYmLuGUBRoibNjdlhOtEZ2UfELVpkywYqhOVz5xCKs9tBBCpWLcbu5E/Zf8L638dNNNPIKGGKxkn1hZR7S9S3tLhij1hhfM1bJNPbqucko+He2VsYTWVTXVrQ9pU8p2TB+3iwId9VwyO3z5pbOR0uo2X72MMK6nVrGSBJa3eu6d+NBWkDG1bzQvtXUFUdmna7ShDiu6bT1W3tai2+HQKBZWduh22xUKHW+ys3aX1m7X2Q9VNQunjFLhVWjrSCJ5ZQ1xtDLB3g0wEe0H99D17+N0Zzd9BbPmLblmK8kMGbnbqisUXmWtSMnvmL5MQatGcPShJ1x5yALCbrNtqCZuW/KJo52nmWKcllLvl27nnssQMUTJJywX0k1Zzavke8xhsaG2aiLhXuMENumhh6TOjxpCY/kOn4k9EyfrdhcNqTfeoekKxdG2srDtMDPUtjuRrlBZCVVU8r9M2dXdDlv2VpviEMY7GV+gsFKQOx+yYWavNcY7mTLBCu+Wdr6SdNuebkPhVmG3liOOnRNNJ44+xQ9WUnfqQgqV/C+tKjKrJSNGMUML020ui2inxnzUSotXynbIaioVsngRDVjqoHErfHpo18xHkXsed74T9dQSWiJ7FtEvloee0yc+NIqWNY/StU9X2B2lpdtWWQkrS05U21io0pLf0e22FXo/6+Av+R3dtpKIKaNU+OjVQCX/i1pJrh5K/mRlpm+AKUgNae6NoV1dpAnJRybezk5MX0Ebbdywpm2b6aohuq26QlEtwXHLFCcAmdSl5sRDT/x0OmwBMd1pn+48pxun5WeMfeZy/+2403EP48rMYbGuUEw0jtAOkUpC9aVhke7D9auz5I8eac/EybqytmjVm9KhqYSn28rCapSKobZdO3eFykqY99j0Xd0VtoxUm+4QhjqZvkBDDNnQTLTGUCfTJ1jhebU7v217ug0DlYoRux107JxoutNP8YOV1LV7yfbVMHFdWEQ7bMpKDxlCFs9z61pc7Pr7x6aO6aVDyfdwbzkW8YjurYh2TB+3RfqrTquJZurmoogGmK6nbauikv+tKVNIHnpO77DdCt5beVE0Efdf2adrtIl7q9vWQo0lbS2JoYUlZmgUC6v18ozUecnvaIW7pv84QaUtrNpaOGWUiugwH/kStuZ1tSnKeNxYL5lOW1F1JJyyASyp5hJUe1sXqMrmboUVK5keVibPTkxfwaiZrSGkW6WJqw3NJfqJCtkmVSsLqxE90zxoW811xN4945vBUiB2e7WU4qBDT0gohiwgpjvt6VsoDBv7RB3q08IpxmlxtXFzKWHjZIsJj9I65Ao1/xljdOuKWS1W8r94A4wYR6XSR/PVxD1BqxE2GaFdJuEDXGRTWxhDGA8qeag3vUNRCU+3lYXVKBVDbbt27gqtZz7Qfro7xDNXwpaRai6SSUt+n0PI9lTNmP6UBRpiyIbGRVOsYWHUtIuYPsGKGGXvmXT6EK45sl4qFeN2s3nV//ixI3adHW+6dsW7R5CrZUnQX9HAN87VUqprAuo9toIkWW8VaZgYW4nqTrYvYoz69AS0cjaKyB3G8nSJ9ZYyHtHq2dyuE70dNG4mZmraJbdZq3XqMkVPEzWFznbW1lkRp5+jJy5iTfUp5fOaRrXQQSjthupWnVtYqV1hy7RHr8zuodW8Gjo67I4irdzQhB1aPYdqaiyl3bNqulvraYmy3aFFO8oQeRSbV8IYJcw7RZmgrSkm7ihLVNnZQPVdJLTNivTX/WWhJJ5FF+nm+iJm1zXj0LoY1YmhVU2lMlEp29c2ULXopLKJyK0s0RxtQ6H+o0lwyp5RwkIRlply6GlES0QIp/irYKLTnriFhHRoax60hwNVcxORR1HCQhGzFlJSy+QmHj2KxglNRJwvhjijxboTVE33b7ob2COqWtY2GlbyLqosW+1G+Nnb6lDCOCLyoLmmZuSeo2as3ZQOu/MVU2zV3er63GsrcZCdrYmJ2XWFE3d1t23L3mpTHIKRJlVNCaeveJeuDTPTj3HVbDUR0ydYkYd2Wwlj6Nx2yhDjCzFxy5mJx87pplNC1SRUJ0NHUHS4a/EPeyL7q6BpSNd2nwnZUUWyY8nDTeIV9NEI10JuQi5gxHvuJVxkuJt1sMpJAQAAiFuM7B2++7pEFzQW6pLFFyiKGi2BGyQuNLsXZgBXRy7lJ66fcCsXAABgcdxiZA8AAAAAAIdCZA8AAAAAsAaI7AEAAAAAls///vd/1wHTd1D+3M4AAAAASUVORK5CYII=\">"
   ]
  },
  {
   "cell_type": "code",
   "execution_count": 8,
   "metadata": {},
   "outputs": [
    {
     "name": "stdout",
     "output_type": "stream",
     "text": [
      "Standar deviasi data1:\n",
      "28.722813232690143\n",
      "Standar deviasi data2:\n",
      "17.916472867168917\n"
     ]
    }
   ],
   "source": [
    "# Dua buah data yang tersimpan dalam tipe list\n",
    "data1 = [70, 70, 70, 100, 100, 100, 120, 120, 150, 150]\n",
    "data2 = [50, 60, 60, 50, 70, 70, 100, 80, 100, 90]\n",
    "# Fungsi rata-rata data\n",
    "def hitung_rata_rata(data):\n",
    "    jumlah = 0\n",
    "    for item in data:\n",
    "        jumlah += item\n",
    "    rata_rata = jumlah/len(data)\n",
    "    return rata_rata\n",
    "# Definisikan fungsi hitung_standar_deviasi\n",
    "def hitung_standar_deviasi(data):\n",
    "    rata_rata_data = hitung_rata_rata(data)\n",
    "    varians = 0\n",
    "    for item in data:\n",
    "        varians += (item - rata_rata_data) ** 2\n",
    "    varians /= len(data)\n",
    "    standar_deviasi = varians ** (1/2)\n",
    "    return standar_deviasi\n",
    "# Hitung nilai standar deviasi dari kedua data yang dimiliki\n",
    "print('Standar deviasi data1:')\n",
    "print(hitung_standar_deviasi(data1))\n",
    "print('Standar deviasi data2:')\n",
    "print(hitung_standar_deviasi(data2))"
   ]
  },
  {
   "cell_type": "markdown",
   "metadata": {},
   "source": [
    "# Tugas Praktek\n",
    "“Aksara, hasil kerjamu dapat pujian di rapat tadi. Terima kasih ya sudah membantu!” ujar Senja yang menghampiri mejaku setelah keluar dari ruang rapat.\n",
    "<br/>\n",
    "Aku mengangguk. Mungkin program tadi sederhana saja, tapi bisa bermanfaat bagi yang membutuhkannya sangat membahagiakan buatku.\n",
    "<br/>\n",
    "“Oh ya, Aksara sebelum kamu pulang bisa tolong buatkan fungsi baru lagi? Kali ini untuk menentukan nilai-rata dan standar deviasi dari data di tabel. Nanti aku kasih data di tabelnya ya.” Senja langsung menarik bangku ke sebelahku dan membuka laptop.\n",
    "<br/>\n",
    "Ia menunjukkan data di tabelnya seperti ini:\n",
    "\n",
    "| Luas Tanah (dalam m2) | Luas Bangunan (dalam m2) | Jarak ke Pusat Kota (dalam km) | Harga (dalam ratus juta) |\n",
    "|-----------------------|--------------------------|--------------------------------|--------------------------|\n",
    "| 70                    | 50                       | 15                             | 500                      |\n",
    "| 70                    | 60                       | 30                             | 400                      |\n",
    "| 70                    | 60                       | 55                             | 300                      |\n",
    "| 100                   | 50                       | 30                             | 700                      |\n",
    "| 100                   | 70                       | 25                             | 1000                     |\n",
    "| 100                   | 70                       | 50                             | 650                      |\n",
    "| 120                   | 100                      | 20                             | 2000                     |\n",
    "| 120                   | 80                       | 50                             | 1200                     |\n",
    "| 150                   | 100                      | 50                             | 1800                     |\n",
    "| 150                   | 90                       | 15                             | 3000                     |\n",
    "\n",
    "## Tugas:\n",
    "Dari data ini, berarti aku harus menjalankan fungsi baru dengan nama variabel deksripsi_properti. Aku pun mengangkat jempol pada Senja seakan bilang, \"Serahkan padaku!\"\n",
    "<br/><br/>\n",
    "Setelah kupelajari kembali, data ini sebenarnya telah direpresentasikan ke dalam dict dengan nama tabel_properti. Kalau begitu, aku bisa mulai kodeku seperti berikut ini.\n",
    "\n"
   ]
  },
  {
   "cell_type": "code",
   "execution_count": 10,
   "metadata": {},
   "outputs": [
    {
     "name": "stdout",
     "output_type": "stream",
     "text": [
      "Rata-rata luas_tanah:\n",
      "105.0\n",
      "Standar deviasi luas_tanah:\n",
      "14.93311056335886\n",
      "\n",
      "Rata-rata luas_bangunan:\n",
      "73.0\n",
      "Standar deviasi luas_bangunan:\n",
      "6.025948374480153\n",
      "\n",
      "Rata-rata jarak:\n",
      "34.0\n",
      "Standar deviasi jarak:\n",
      "6.24005184770928\n",
      "\n",
      "Rata-rata harga:\n",
      "1155.0\n",
      "Standar deviasi harga:\n",
      "587.0594351517378\n",
      "\n"
     ]
    }
   ],
   "source": [
    "# Data properti\n",
    "tabel_properti = {\n",
    "'luas_tanah': [70, 70, 70, 100, 100, 100, 120, 120, 150, 150],\n",
    "'luas_bangunan': [50, 60, 60, 50, 70, 70, 100, 80, 100, 90],\n",
    "'jarak': [15, 30, 55, 30, 25, 50, 20, 50, 50, 15],\n",
    "'harga': [500, 400, 300, 700, 1000, 650, 2000, 1200, 1800, 3000]\n",
    "}\n",
    "# Fungsi rata-rata data\n",
    "def hitung_rata_rata(data):\n",
    "    jumlah = 0\n",
    "    for item in data:\n",
    "        jumlah += item\n",
    "    rata_rata = jumlah/len(data)\n",
    "    return rata_rata\n",
    "# Fungsi hitung_standar_deviasi\n",
    "def hitung_standar_deviasi(data):\n",
    "    rata_rata_data = hitung_rata_rata(data)\n",
    "    varians = 0\n",
    "    for item in data:\n",
    "        varians += (item - rata_rata_data) ** 2\n",
    "        varians /= len(data)\n",
    "    standar_deviasi = varians ** (1/2)\n",
    "    return standar_deviasi\n",
    "# Definisikan fungsi untuk menghitung rata-rata dan standar deviasi\n",
    "# setiap kolom pada tabel_properti yang diberikan oleh key dict.\n",
    "def deskripsi_properti(tabel):\n",
    "    for key in tabel.keys():\n",
    "        print('Rata-rata ' + key + ':')\n",
    "        print(hitung_rata_rata(tabel[key])) \n",
    "        print('Standar deviasi ' + key + ':')\n",
    "        print(hitung_standar_deviasi(tabel[key]))\n",
    "        print('')\n",
    "# Panggil fungsi deskripsi_properti untuk menghitung rata-rata \n",
    "# dan standar deviasi setiap kolom pada tabel_properti\n",
    "deskripsi_properti(tabel_properti)"
   ]
  }
 ],
 "metadata": {
  "kernelspec": {
   "display_name": "Python 3.10.7 64-bit",
   "language": "python",
   "name": "python3"
  },
  "language_info": {
   "codemirror_mode": {
    "name": "ipython",
    "version": 3
   },
   "file_extension": ".py",
   "mimetype": "text/x-python",
   "name": "python",
   "nbconvert_exporter": "python",
   "pygments_lexer": "ipython3",
   "version": "3.10.7"
  },
  "orig_nbformat": 4,
  "vscode": {
   "interpreter": {
    "hash": "aee8b7b246df8f9039afb4144a1f6fd8d2ca17a180786b69acc140d282b71a49"
   }
  }
 },
 "nbformat": 4,
 "nbformat_minor": 2
}
