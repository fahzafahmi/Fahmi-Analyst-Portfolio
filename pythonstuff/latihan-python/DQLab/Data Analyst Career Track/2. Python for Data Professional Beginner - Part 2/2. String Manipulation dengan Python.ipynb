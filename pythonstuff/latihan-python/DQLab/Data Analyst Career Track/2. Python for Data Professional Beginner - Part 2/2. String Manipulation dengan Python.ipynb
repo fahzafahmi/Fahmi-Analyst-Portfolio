{
 "cells": [
  {
   "cell_type": "markdown",
   "metadata": {},
   "source": [
    "# Apa itu String Manipulation?\n",
    "Aku belajar bahwa String Manipulation adalah teknik yang digunakan dalam memanipulasi data yang disimpan dalam tipe data <mark>str</mark>. Pada bahasa Python, untuk mempermudah proses pengolahan data, tipe data string dapat diperlakukan layaknya seperti tipe data list.\n",
    "\n",
    "## Tugas:\n",
    "Aku mengikuti contoh yang diberikan dengan mengetik syntax pada live code editor untuk memahami bagaimana String Manipulation bekerja pada Python."
   ]
  },
  {
   "cell_type": "code",
   "execution_count": 1,
   "metadata": {},
   "outputs": [
    {
     "name": "stdout",
     "output_type": "stream",
     "text": [
      "SePatu NiKo\n"
     ]
    }
   ],
   "source": [
    "nama_produk = \"Sepatu Niko\"\n",
    "nama_produk = nama_produk[:2] + \"P\" + nama_produk[3:9] + \"K\" + nama_produk[-1]\n",
    "print(nama_produk)"
   ]
  },
  {
   "cell_type": "markdown",
   "metadata": {},
   "source": [
    "akan menghasilkan output: <mark>SePatu NiKo</mark>"
   ]
  },
  {
   "cell_type": "code",
   "execution_count": 2,
   "metadata": {},
   "outputs": [
    {
     "name": "stdout",
     "output_type": "stream",
     "text": [
      "SePatu \n"
     ]
    }
   ],
   "source": [
    "print(nama_produk[:7])"
   ]
  },
  {
   "cell_type": "markdown",
   "metadata": {},
   "source": [
    "akan menghasilkan output: <mark>SePatu</mark>"
   ]
  },
  {
   "cell_type": "code",
   "execution_count": 3,
   "metadata": {},
   "outputs": [
    {
     "name": "stdout",
     "output_type": "stream",
     "text": [
      "NiKo\n"
     ]
    }
   ],
   "source": [
    "print(nama_produk[7:])"
   ]
  },
  {
   "cell_type": "markdown",
   "metadata": {},
   "source": [
    "akan menghasilkan output: <mark>NiKo</mark>"
   ]
  },
  {
   "cell_type": "code",
   "execution_count": 4,
   "metadata": {},
   "outputs": [
    {
     "name": "stdout",
     "output_type": "stream",
     "text": [
      "11\n"
     ]
    }
   ],
   "source": [
    "print(len(nama_produk))"
   ]
  },
  {
   "cell_type": "markdown",
   "metadata": {},
   "source": [
    "akan menghasilkan output: <mark>11</mark>\n",
    "<br/>\n",
    "<br/>\n",
    "Catatan: fungsi built-in <mark>len()</mark> juga dapat digunakan untuk menentukan jumlah karakter pada variabel bertipe string yang dimiliki."
   ]
  },
  {
   "cell_type": "markdown",
   "metadata": {},
   "source": [
    "Full answers are written here bellow"
   ]
  },
  {
   "cell_type": "code",
   "execution_count": 5,
   "metadata": {},
   "outputs": [
    {
     "name": "stdout",
     "output_type": "stream",
     "text": [
      "SePatu NiKo\n",
      "SePatu \n",
      "NiKo\n",
      "11\n"
     ]
    }
   ],
   "source": [
    "nama_produk = \"Sepatu Niko\"\n",
    "nama_produk = nama_produk[:2] + \"P\" + nama_produk[3:9] + \"K\" + nama_produk[-1]\n",
    "print(nama_produk)\n",
    "print(nama_produk[:7])\n",
    "print(nama_produk[7:])\n",
    "print(len(nama_produk))"
   ]
  },
  {
   "cell_type": "markdown",
   "metadata": {},
   "source": [
    "# Operator “+” untuk Tipe Data String\n",
    "Setelah aku mempelajari String Manipulation, sekarang aku beralih ke Operator <mark>+</mark>. Operator <mark>+</mark> pada dua string akan secara otomatis menggabungkan kedua string tersebut. Operator <mark>+</mark> juga dapat digunakan untuk menambahkan beberapa string secara bersamaan.\n",
    "<br/>\n",
    "\n",
    "Aku mengikuti contoh yang diberikan dengan mengetik syntax pada **live code** editor untuk memahami bagaimana Operation <mark>+</mark> bekerja pada Python.\n",
    "\n",
    "## Tugas 1:"
   ]
  },
  {
   "cell_type": "code",
   "execution_count": 6,
   "metadata": {},
   "outputs": [
    {
     "name": "stdout",
     "output_type": "stream",
     "text": [
      "John Doee\n"
     ]
    }
   ],
   "source": [
    "nama_depan = 'John'\n",
    "nama_belakang = 'Doee'\n",
    "nama_lengkap = nama_depan + ' ' + nama_belakang\n",
    "print(nama_lengkap)"
   ]
  },
  {
   "cell_type": "markdown",
   "metadata": {},
   "source": [
    "akan menghasilkan output: <mark>John Doee</mark>\n",
    "<br/>\n",
    "\n",
    "## Tugas 2:\n",
    "Selanjutnya aku mencoba mengetik kode berikut di live code editor pada baris berikutnya\n"
   ]
  },
  {
   "cell_type": "code",
   "execution_count": 10,
   "metadata": {},
   "outputs": [
    {
     "name": "stdout",
     "output_type": "stream",
     "text": [
      "Hi, saya John Doee umur 27 tahun, tinggal di Jl. Anggrek No. 100.\n"
     ]
    }
   ],
   "source": [
    "umur = '27 tahun'\n",
    "alamat = 'Jl. Anggrek No. 100'\n",
    "nama_umur_alamat = 'Hi, saya ' + nama_lengkap + ' umur ' + umur + ', tinggal di ' + alamat + '.'\n",
    "print(nama_umur_alamat)"
   ]
  },
  {
   "cell_type": "markdown",
   "metadata": {},
   "source": [
    "akan menghasilkan output: <mark>Hi, saya John Doee umur 27 tahun, tinggal di Jl. Anggrek No. 100.</mark>\n",
    "<br/><br/>\n",
    "\n",
    "Full answers are written bellow"
   ]
  },
  {
   "cell_type": "code",
   "execution_count": 11,
   "metadata": {},
   "outputs": [
    {
     "name": "stdout",
     "output_type": "stream",
     "text": [
      "John Doee\n",
      "Hi, saya John Doee umur 27 tahun, tinggal di Jl. Anggrek No. 100.\n"
     ]
    }
   ],
   "source": [
    "nama_depan = 'John'\n",
    "nama_belakang = 'Doee'\n",
    "nama_lengkap = nama_depan + ' ' + nama_belakang\n",
    "print(nama_lengkap)\n",
    "umur = '27 tahun'\n",
    "alamat = 'Jl. Anggrek No. 100'\n",
    "nama_umur_alamat = 'Hi, saya ' + nama_lengkap + ' umur ' + umur + ', tinggal di ' + alamat + '.'\n",
    "print(nama_umur_alamat)"
   ]
  },
  {
   "cell_type": "markdown",
   "metadata": {},
   "source": [
    "# Menghilangkan Spasi di Awal dan/atau di Akhir\n",
    "Sekarang aku akan mempelajari bagaimana menghilangkan kelebihan spasi yang dimiliki di awal dan/atau di akhir variabel string. Pertama, aku melihat fitur yang diberikan pada tabel contoh.\n",
    "<br/>\n",
    "<br/>\n",
    "\n",
    "| Fitur    | Keterangan                                                |\n",
    "|----------|-----------------------------------------------------------|\n",
    "| .strip() | Menghilangkan kelebihan spasi pada awal dan akhir string. |\n",
    "| .lstrip()| Menghilangkan kelebihan spasi pada awal string.           |\n",
    "| .rstrip()| Menghilangkan kelebihan spasi pada akhir string.          |\n",
    "\n",
    "## Tugas:\n",
    "Agar lebih memahami bagaimana penerapan fitur ini pada Python, aku akan mengikuti contoh yang tercantum pada tabel dengan cara mengetikkannya pada live code editor."
   ]
  },
  {
   "cell_type": "code",
   "execution_count": 12,
   "metadata": {},
   "outputs": [
    {
     "name": "stdout",
     "output_type": "stream",
     "text": [
      ">>> Fitur .strip()\n",
      "halo, selamat siang!\n",
      ">>> Fitur .lstrip()\n",
      "halo, selamat siang! \n",
      ">>> Fitur .rstrip()\n",
      " halo, selamat siang!\n"
     ]
    }
   ],
   "source": [
    "# Fitur .strip()\n",
    "print(\">>> Fitur .strip()\")\n",
    "kata_sambutan = ' halo, selamat siang! '\n",
    "kata_sambutan = kata_sambutan.strip()\n",
    "print(kata_sambutan)\n",
    "# Fitur .lstrip()\n",
    "print(\">>> Fitur .lstrip()\")\n",
    "kata_sambutan = ' halo, selamat siang! '\n",
    "kata_sambutan = kata_sambutan.lstrip()\n",
    "print(kata_sambutan)\n",
    "# Fitur .rstrip()\n",
    "print(\">>> Fitur .rstrip()\")\n",
    "kata_sambutan = ' halo, selamat siang! '\n",
    "kata_sambutan = kata_sambutan.rstrip()\n",
    "print(kata_sambutan)"
   ]
  },
  {
   "cell_type": "markdown",
   "metadata": {},
   "source": [
    "# Merubah Caps pada String\n",
    "Pada bagian ini, aku akan mempelajari cara merubah caps (penggunaan huruf besar dan kecil). Jika diawal kalimat pada suatu string yang dimiliki belum berupa huruf kapital, maka dengan menggunakan fitur <mark>.capitalize()</mark> kita dengan mudah mengubah string tersebut menjadi kalimat yang benar secara bahasa.\n",
    "\n",
    "| Fitur         | Keterangan                                                     |\n",
    "|---------------|----------------------------------------------------------------|\n",
    "| .capitalize() | Mengubah elemen pertama dari string menjadi huruf kapital.     |\n",
    "| .lower()      | Mengubah seluruh huruf dalam teks (string) menjadi huruf kecil |\n",
    "| .upper()      | Mengubah seluruh huruf dalam teks (string) menjadi huruf besar |\n",
    "\n",
    "## Tugas:\n",
    "Aku mengikuti contoh yang diberikan dengan mengetik syntax pada live code editor untuk memahami bagaimana fitur <mark>.capitalize()</mark>, <mark>.lower()</mark>, dan <mark>.upper()</mark> bekerja pada Python.  "
   ]
  },
  {
   "cell_type": "code",
   "execution_count": 13,
   "metadata": {},
   "outputs": [
    {
     "name": "stdout",
     "output_type": "stream",
     "text": [
      ">>> Fitur .capitalize()\n",
      "Belajar bahasa python\n",
      ">>> Fitur .lower()\n",
      "belajar bahasa python.\n",
      ">>> Fitur .upper()\n",
      "BELAJAR BAHASA PYTHON.\n"
     ]
    }
   ],
   "source": [
    "# Fitur .capitalize()\n",
    "print(\">>> Fitur .capitalize()\")\n",
    "judul_buku = 'belajar bahasa Python'\n",
    "print(judul_buku.capitalize())\n",
    "# Fitur .lower()\n",
    "print(\">>> Fitur .lower()\")\n",
    "judul_buku = 'Belajar Bahasa PYTHON.'\n",
    "print(judul_buku.lower())\n",
    "# Fitur .upper()\n",
    "print(\">>> Fitur .upper()\")\n",
    "judul_buku = 'Belajar Bahasa PYTHON.'\n",
    "print(judul_buku.upper())"
   ]
  },
  {
   "cell_type": "markdown",
   "metadata": {},
   "source": [
    "# Pemecahan, Penggabungan, dan Penggantian String\n",
    "Pada bagian ini, aku akan mempelajari bagaimana cara memecah suatu string dengan kondisi tertentu sehingga menghasilkan list of string. Kemudian, akan dipelajari bagaimana cara menggabungkan beberapa list of string menjadi string saja. Akhirnya, aku akan mengganti sub-string tertentu dengan sub-string lainnya sehingga mengubah string awalnya.\n",
    "\n",
    "| Fitur      | Keterangan                                                                                          |\n",
    "|------------|-----------------------------------------------------------------------------------------------------|\n",
    "| .split()   | Memecah sebuah string berdasarkan string lainnya ke dalam sebuah list.                              |\n",
    "| .join()    | Menggabungkan sebuah list yang berisikan string berdasarkan sebuah string yang telah didefinisikan. |\n",
    "| .replace() | Menggantikan kemunculan suatu string tertentu dengan string lainnya dalam sebuah string.            |\n",
    "\n",
    "## Tugas:\n",
    "Agar lebih memahami bagaimana penerapannya pada Python, aku akan mengikuti contoh penggunaan yang diberikan dari tabel berikut dengan mengetik syntax pada live code editor."
   ]
  },
  {
   "cell_type": "code",
   "execution_count": 15,
   "metadata": {},
   "outputs": [
    {
     "name": "stdout",
     "output_type": "stream",
     "text": [
      ">>> Fitur .split()\n",
      "['ani ', ' budi ', ' wati ', ' johan']\n",
      "['ani', 'dan', 'budi', 'dan', 'wati', 'dan', 'johan']\n",
      ">>> Fitur .join()\n",
      "Ricky dan Peter dan Jordan\n",
      "Ricky Peter Jordan\n",
      ">>> Fitur .replace()\n",
      "jeruk malang jeruk yang paling segar, jeruk sehat, jeruk nikmat\n"
     ]
    }
   ],
   "source": [
    "# Fitur .split()\n",
    "print(\">>> Fitur .split()\")\n",
    "frasa = \"ani dan budi dan wati dan johan\"\n",
    "karakter = frasa.split(\"dan\")\n",
    "print(karakter)\n",
    "kata = frasa.split(\" \")\n",
    "print(kata)\n",
    "# Fitur .join()\n",
    "print(\">>> Fitur .join()\")\n",
    "pemisah = \" dan \"\n",
    "karakter = [\"Ricky\", \"Peter\", \"Jordan\"]\n",
    "frasa = pemisah.join(karakter)\n",
    "print(frasa)\n",
    "frasa = \" \".join(karakter)\n",
    "print(frasa)\n",
    "# Fitur .replace()\n",
    "print(\">>> Fitur .replace()\")\n",
    "frasa = \"apel malang apel yang paling segar, apel sehat, apel nikmat\"\n",
    "frasa = frasa.replace(\"apel\",\"jeruk\")\n",
    "print(frasa)"
   ]
  },
  {
   "cell_type": "markdown",
   "metadata": {},
   "source": [
    "# Menentukan Posisi dan Jumlah Sub-string pada String\n",
    "Pada bagian ini, aku akan mempelajari bagaimana cara menentukan posisi awal suatu sub-string dan jumlah kemunculan sub-string tersebut pada suatu string agar lebih memahami bagaimana penerapannya pada Python.\n",
    "\n",
    "| Fitur   | Keterangan                                                                                                                |\n",
    "|---------|---------------------------------------------------------------------------------------------------------------|\n",
    "| .find() | Mengembalikan posisi dari sebuah teks (sub-string) lainnya dalam sebuah string.                               |\n",
    "| .count()|Menghitung jumlah kemunculan sebuah teks (string) lainnya dalam suatu string (string yang dicari bersifat case sensitive). |\n",
    "\n",
    "## Tugas:\n",
    "Aku akan mengikuti contoh penggunaan yang diberikan dari tabel berikut dengan mengetiknya pada live code editor."
   ]
  },
  {
   "cell_type": "code",
   "execution_count": 16,
   "metadata": {},
   "outputs": [
    {
     "name": "stdout",
     "output_type": "stream",
     "text": [
      ">>> Fitur .find()\n",
      "0\n",
      "5\n",
      ">>> Fitur .count()\n",
      "3\n"
     ]
    }
   ],
   "source": [
    "teks = \"Apel malang adalah apel termanis dibanding apel-apel lainnya\"\n",
    "# Fitur .find()\n",
    "print(\">>> Fitur .find()\")\n",
    "print(teks.find(\"Apel\"))\n",
    "print(teks.find(\"malang\"))\n",
    "# Fitur .count()\n",
    "print(\">>> Fitur .count()\")\n",
    "kemunculan_kata_apel = teks.count(\"apel\")\n",
    "print(kemunculan_kata_apel)"
   ]
  },
  {
   "cell_type": "markdown",
   "metadata": {},
   "source": [
    "# Menentukan String Apakah Diawali/Diakhiri oleh Sub-string\n",
    "Pada bagian ini, aku akan mempelajari bagaimana menentukan apakah suatu string diawali atau diakhiri dengan suatu substring (teks) tertentu.\n",
    "\n",
    "| Fitur         | Keterangan                                                                                         |\n",
    "|---------------|----------------------------------------------------------------------------------------------------|\n",
    "| .startswith()\t| Mengembalikan nilai kebenaran True ketika sebuah teks (string) diawali dengan sebuah teks lainnya. |\n",
    "| .endswith()   | Mengembalikan nilai kebenaran True ketika sebuah teks (string) diakhiri dengan sebuah teks lainnya.|\n",
    "\n",
    "## Tugas:\n",
    "Agar lebih memahami bagaimana penerapannya pada Python, aku akan mengikuti contoh penggunaan yang diberikan menggunakan fitur dalam tabel berikut dengan mengetiknya pada live code editor."
   ]
  },
  {
   "cell_type": "code",
   "execution_count": 17,
   "metadata": {},
   "outputs": [
    {
     "name": "stdout",
     "output_type": "stream",
     "text": [
      ">>> Fitur .startswith()\n",
      "True\n",
      "False\n",
      ">>> Fitur .endswith()\n",
      "True\n",
      "False\n"
     ]
    }
   ],
   "source": [
    "# Fitur .startswith()\n",
    "print(\">>> Fitur .startswith()\")\n",
    "teks = \"Apel malang adalah apel termanis dibanding apel-apel lainnya\"\n",
    "print(teks.startswith(\"Apel\"))\n",
    "print(teks.startswith(\"apel\"))\n",
    "# Fitur .endswith()\n",
    "print(\">>> Fitur .endswith()\")\n",
    "print(teks.endswith(\"lainnya\"))\n",
    "print(teks.endswith(\"apel\"))"
   ]
  },
  {
   "cell_type": "markdown",
   "metadata": {},
   "source": [
    "# Tugas Praktek\n",
    "Aku mengecek ponsel. Sejak kukirimkan progress latihanku terakhir pada Senja, belum ada kabar lagi sampai saat ini. Senja memang tiba-tiba pergi dari mejanya tadi. Sedikit bosan, aku coba membuka-buka dokumen di laptop. Aku menemukan folder “LATIHAN” dan teringat kalau ada satu latihan kecil yang belum kukerjakan. “Mumpung lagi lowong, aku coba deh.”\n",
    "\n",
    "Aku mengeklik dokumen PENGOLAHAN DATA TEKS. Di dalamnya aku diminta untuk meneliti popularitas antara buah salak dan buah jeruk berdasarkan judul artikel yang muncul di majalah Buah Sehat. Aku mulai menyiapkan susunan kodeku: \n",
    "\n",
    "```python\n",
    "judul_artikel = [\n",
    "\"Buah Salak Baik untuk Mata\", \"Buah Salak Kaya Potasium\", \n",
    "\"Buah Jeruk Kaya Vitamin C\", \"Buah Salak Kaya Manfaat\", \n",
    "\"Salak Baik untuk Jantung\", \"Jeruk dapat Memperkuat Tulang\", \n",
    "\"Jeruk Mencegah Penyakit Asma\", \"Jeruk Memperkuat Gigi\", \n",
    "\"Jeruk Mencegah Kolesterol Jahat\", \"Salak Mencegah Diabetes\", \n",
    "\"Salak Memperkuat Dinding Usus\", \"Salak Baik untuk Darah\",\n",
    "\"Jeruk Kaya Manfaat untuk Jantung\", \"Salak si Kecil yang Baik\", \n",
    "\"Jeruk dan Salak Buah Kaya Manfaat\", \"Buah Jeruk Enak\",\n",
    "\"Tips Panen Jeruk Ribuan Kilo\", \"Tips Bertanam Salak\", \n",
    "\"Salak Manis untuk Berbuka\", \"Jeruk Baik untuk Wajah\"\n",
    "]\n",
    "```\n",
    "## Tugas:\n",
    "“Kalau mengikuti yang sudah kupelajari, langkah pertama adalah menghitung jumlah kemunculan kata jeruk dan salak di tiap judul artikel,” batinku.\n",
    "<br/><br/>\n",
    "Aku kembali berkutat di depan layar laptop."
   ]
  },
  {
   "cell_type": "code",
   "execution_count": 18,
   "metadata": {},
   "outputs": [
    {
     "name": "stdout",
     "output_type": "stream",
     "text": [
      "10\n",
      "11\n"
     ]
    }
   ],
   "source": [
    "judul_artikel = [\n",
    "\"Buah Salak Baik untuk Mata\", \"Buah Salak Kaya Potasium\", \n",
    "\"Buah Jeruk Kaya Vitamin C\", \"Buah Salak Kaya Manfaat\", \n",
    "\"Salak Baik untuk Jantung\", \"Jeruk dapat Memperkuat Tulang\", \n",
    "\"Jeruk Mencegah Penyakit Asma\", \"Jeruk Memperkuat Gigi\", \n",
    "\"Jeruk Mencegah Kolesterol Jahat\", \"Salak Mencegah Diabetes\", \n",
    "\"Salak Memperkuat Dinding Usus\", \"Salak Baik untuk Darah\",\n",
    "\"Jeruk Kaya Manfaat untuk Jantung\", \"Salak si Kecil yang Baik\", \n",
    "\"Jeruk dan Salak Buah Kaya Manfaat\", \"Buah Jeruk Enak\",\n",
    "\"Tips Panen Jeruk Ribuan Kilo\", \"Tips Bertanam Salak\", \n",
    "\"Salak Manis untuk Berbuka\", \"Jeruk Baik untuk Wajah\"\n",
    "]\n",
    "jumlah_artikel_jeruk = 0\n",
    "jumlah_artikel_salak = 0\n",
    "for judul in judul_artikel:\n",
    "    if judul.count(\"Jeruk\") > 0: \n",
    "        jumlah_artikel_jeruk += 1\n",
    "    if judul.count(\"Salak\") > 0:\n",
    "        jumlah_artikel_salak += 1\n",
    "print(jumlah_artikel_jeruk) \n",
    "print(jumlah_artikel_salak)"
   ]
  },
  {
   "cell_type": "markdown",
   "metadata": {},
   "source": [
    "# Tugas Praktek\n",
    "Setelah selesai menghitung jumlah kemunculan kata, aku mencoba berpikir dari sudut pandang si pemilik majalah. Kalau aku jadi mereka, tentunya aku juga ingin tahu apakah kata yang muncul itu bermuatan positif atau tidak. Nah ini!\n",
    "\n",
    "## Tugas:\n",
    "Dengan cepat, aku mendeklarasikan daftar bernama <mark>kata_positif</mark> yang berisi nuansa kata positif untuk menghitung jumlah kemunculan <mark>kata_positif</mark> bagi tiap artikel **jeruk** dan **salak**, seperti ini:\n",
    "\n"
   ]
  },
  {
   "cell_type": "code",
   "execution_count": 19,
   "metadata": {},
   "outputs": [
    {
     "name": "stdout",
     "output_type": "stream",
     "text": [
      "8\n",
      "9\n"
     ]
    }
   ],
   "source": [
    "judul_artikel = [\n",
    "\"Buah Salak Baik untuk Mata\", \"Buah Salak Kaya Potasium\", \n",
    "\"Buah Jeruk Kaya Vitamin C\", \"Buah Salak Kaya Manfaat\", \n",
    "\"Salak Baik untuk Jantung\", \"Jeruk dapat Memperkuat Tulang\", \n",
    "\"Jeruk Mencegah Penyakit Asma\", \"Jeruk Memperkuat Gigi\", \n",
    "\"Jeruk Mencegah Kolesterol Jahat\", \"Salak Mencegah Diabetes\", \n",
    "\"Salak Memperkuat Dinding Usus\", \"Salak Baik untuk Darah\",\n",
    "\"Jeruk Kaya Manfaat untuk Jantung\", \"Salak si Kecil yang Baik\", \n",
    "\"Jeruk dan Salak Buah Kaya Manfaat\", \"Buah Jeruk Enak\",\n",
    "\"Tips Panen Jeruk Ribuan Kilo\", \"Tips Bertanam Salak\", \n",
    "\"Salak Manis untuk Berbuka\", \"Jeruk Baik untuk Wajah\"\n",
    "]\n",
    "kata_positif = [\"Kaya\", \"Baik\", \"Mencegah\", \"Memperkuat\"]\n",
    "kata_positif_jeruk = 0\n",
    "kata_positif_salak = 0\n",
    "for judul in judul_artikel: \n",
    "    for kata in kata_positif:\n",
    "        if judul.count(\"Jeruk\") > 0 and judul.count(kata) > 0: \n",
    "            kata_positif_jeruk += 1\n",
    "        if judul.count(\"Salak\") > 0 and judul.count(kata) > 0:\n",
    "            kata_positif_salak += 1\n",
    "print(kata_positif_jeruk) \n",
    "print(kata_positif_salak)"
   ]
  }
 ],
 "metadata": {
  "kernelspec": {
   "display_name": "Python 3.10.7 64-bit",
   "language": "python",
   "name": "python3"
  },
  "language_info": {
   "codemirror_mode": {
    "name": "ipython",
    "version": 3
   },
   "file_extension": ".py",
   "mimetype": "text/x-python",
   "name": "python",
   "nbconvert_exporter": "python",
   "pygments_lexer": "ipython3",
   "version": "3.10.7"
  },
  "orig_nbformat": 4,
  "vscode": {
   "interpreter": {
    "hash": "aee8b7b246df8f9039afb4144a1f6fd8d2ca17a180786b69acc140d282b71a49"
   }
  }
 },
 "nbformat": 4,
 "nbformat_minor": 2
}
