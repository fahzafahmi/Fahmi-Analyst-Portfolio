{
 "cells": [
  {
   "cell_type": "markdown",
   "metadata": {},
   "source": [
    "# Manipulasi Berkas Teks\n",
    "## 1. Membaca file di local computer\n",
    "Pengolahan berkas teks pada Python tidak membutuhkan proses import dependencies lainnya seperti pada bahasa-bahasa pemrograman lainnya. Untuk memanipulasi berkas teks pada bahasa pemrograman Python, mula-mula aku harus membuka/membuat berkas teks yang aku inginkan dengan menggunakan fungsi open(). Fungsi open() menerima 2 parameter, di mana parameter pertama merupakan nama dari file yang ingin dibuka/dibuat dan mode yang berkaitan dengan aksi yang ingin dilakukan terhadap file yang telah terbuka. Sebagai contoh:\n",
    "\n",
    "```python\n",
    "file = open(\"hello.txt\", \"r\")\n",
    "```\n",
    "\n",
    "Argumen/parameter \"r\" mengartikan bahwa file yang akan dibuka berada dalam mode “read” sehingga nantinya aku tidak dapat menambahkan/ menuliskan ulang isi tulisan dari file \"hello.txt\".\n",
    "\n",
    "Perintah ini dapat digunakan untuk menutup file yang telah aku buka.\n",
    "\n",
    "```python\n",
    "file.close()\n",
    "```\n",
    "\n",
    "Aku juga belajar bahwa selain mode \"r\" yang hanya digunakan untuk membaca file, terdapat juga mode lainnya seperti:\n",
    "<ul>\n",
    "<li>w: write, mode ini dapat aku gunakan untuk menulis ke dalam sebuah berkas teks. Jika berkas tidak tersedia, maka Python akan secara otomatis membuat sebuah berkas baru dengan nama yang telah di spesifikasikan. Saat menulis dengan menggunakan mode ini, jika file semula tidak kosong, maka isi yang sebelumnya terdapat di dalam berkas akan terhapus.</li>\n",
    "<li>a: append, mode ini dapat aku gunakan untuk menambahkan isi dari sebuah berkas teks. Mode ini juga akan membuat sebuah berkas teks baru dengan nama yang telah kita spesifikasikan jika berkas teks tidak tersedia.</li>\n",
    "<li>w+: write+, mode ini dapat aku gunakan untuk membaca ataupun menuliskan isi dari sebuah berkas teks.</li>\n",
    "<li>a+: append+, mode ini dapat aku gunakan untuk membaca ataupun menambahkan isi dari sebuah berkas teks.</li>\n",
    "</ul>\n",
    "\n",
    "## 2. Membaca file dari url\n",
    "Berkas teks yang berada di suatu alamat di internet dapat dibaca berdasarkan url-nya. Untuk membacanya aku perlu menggunakan library <mark>requests</mark>. File hello.txt yang aku temui di local komputer ku juga ada di url berikut https://storage.googleapis.com/dqlab-dataset/hello.txt. \n",
    "<br/>\n",
    "\n",
    "Akhirnya, aku dapat menggunakan kode berikut\n",
    "```python\n",
    "import requests\n",
    "url = \"https://storage.googleapis.com/dqlab-dataset/hello.txt\"\n",
    "response = requests.get(url)\n",
    "```\n",
    "\n",
    "Cukup ringkas juga ya, gumamku."
   ]
  },
  {
   "cell_type": "markdown",
   "metadata": {},
   "source": [
    "# Membaca Berkas Teks – Part 1\n",
    "Setelah mempelajari bagaimana membuka/membuat sebuah berkas teks dalam Python, aku akan mempelajari sintaks untuk dapat membaca isi dari sebuah berkas. Untuk membaca isi dari sebuah teks aku dapat menggunakan potongan kode berikut.\n",
    "<br/>\n",
    "\n",
    "Aku akan mengasumsikan baris-baris di bawah comment merupakan isi dari “hello.txt”.\n",
    "> Kita sedang belajar Python\n",
    "> Tepatnya belajar memanipulasi berkas teks\n",
    "> Memanipulasi berkas dengan Python sangatlah mudah!\n",
    "\n",
    "## A1. Membaca file hello.txt dengan fungsi read() dan menutup file\n",
    "```python\n",
    "# Membaca file hello.txt dengan fungsi read()\n",
    "file = open(\"hello.txt\",\"r\")\n",
    "content = file.read()\n",
    "```\n",
    "\n",
    "Perintah ini aku gunakan untuk menutup berkas setelah selesai digunakan\n",
    "```python\n",
    "file.close()\n",
    "print(content)\n",
    "```\n",
    "\n",
    "Selain dapat membaca dan menampung isi dari sebuah berkas secara sekaligus menggunakan fungsi <mark>read()</mark>, aku juga dapat menggunakan fungsi <mark>readline()</mark> ataupun <mark>readlines()</mark> untuk membaca isi dari suatu berkas teks. Dengan menggunakan fungsi <mark>readline()</mark>, Python akan membaca konten dari sebuah berkas secara baris per baris, dimulai dari baris paling awal.\n",
    "<br/>\n",
    "\n",
    "## A2. Membaca file hello.txt dengan fungsi readline()\n",
    "```python\n",
    "# Membaca file hello.txt dengan fungsi readline()\n",
    "file = open(\"hello.txt\",\"r\")\n",
    "```\n",
    "\n",
    "dengan menggunakan fungsi readline() dapat aku gunakan untuk membaca isi dari file secara tersedia dalam berkas “hello.txt” baris per baris\n",
    "```python\n",
    "first_line = file.readline()\n",
    "second.line = file.readline()\n",
    "```\n",
    "\n",
    "perintah ini aku gunakan untuk menutup berkas setelah selesai digunakan\n",
    "```python\n",
    "file.close()\n",
    "print(first_line)\n",
    "print(second_line)\n",
    "```\n",
    "\n",
    "## A3. Membaca file hello.txt dengan metode requests\n",
    "```python\n",
    "import requests\n",
    "url = \"https://storage.googleapis.com/dqlab-dataset/hello.txt\"\n",
    "response = requests.get(url)\n",
    "# Cetak kode status dari response\n",
    "print(response)\n",
    "```\n",
    "\n",
    "untuk membaca file secara baris per baris, menggunakan fungsi .iter_lines()\n",
    "```python\n",
    "# Cetak isi file hello.txt menggunakan method response.iter_lines()\n",
    "for baris in response.iter_lines():\n",
    "\tprint(baris)\n",
    "```\n",
    "\n",
    "## Tugas Praktik:\n",
    "Well, aku sudah mempraktikkan membaca berkas teks secara lokal di komputer ku. Sekarang aku akan mencoba membaca berkas teks yang sama yang berada di url https://storage.googleapis.com/dqlab-dataset/hello.txt. Di code editor akupun mengetikkan perintah berikut"
   ]
  },
  {
   "cell_type": "code",
   "execution_count": 5,
   "metadata": {},
   "outputs": [
    {
     "name": "stdout",
     "output_type": "stream",
     "text": [
      "<Response [200]>\n",
      "\n",
      ">> Cetak isi file hello.txt menggunakan method response.iter_lines():\n",
      "b'Kita sedang belajar Python'\n",
      "b'Tepatnya belajar memanipulasi berkas teks'\n",
      "b'Memanipulasi berkas dengan Python sangatlah mudah!'\n"
     ]
    }
   ],
   "source": [
    "import requests\n",
    "url = \"https://storage.googleapis.com/dqlab-dataset/hello.txt\"\n",
    "response = requests.get(url)\n",
    "# Cetak kode status dari response\n",
    "print(response)\n",
    "# Cetak isi file hello.txt menggunakan method response.iter_lines()\n",
    "print(\"\\n>> Cetak isi file hello.txt menggunakan method response.iter_lines():\")\n",
    "for baris in response.iter_lines():\n",
    "\tprint(baris)"
   ]
  },
  {
   "cell_type": "markdown",
   "metadata": {},
   "source": [
    "# Membaca Berkas Teks – Part 2\n",
    "Fungsi <mark>readlines()</mark> akan mengembalikan sebuah list yang setiap elemennya merupakan setiap baris dalam sebuah berkas teks.\n",
    "<br/>\n",
    "...<br/>\n",
    "...<br/>\n",
    "(To be continued)"
   ]
  },
  {
   "cell_type": "code",
   "execution_count": 6,
   "metadata": {},
   "outputs": [
    {
     "name": "stdout",
     "output_type": "stream",
     "text": [
      "<Response [200]>\n",
      "\n",
      ">> Cetak isi file hello.txt menggunakan atribut response.text:\n",
      "Kita sedang belajar Python\n",
      "Tepatnya belajar memanipulasi berkas teks\n",
      "Memanipulasi berkas dengan Python sangatlah mudah!\n"
     ]
    }
   ],
   "source": [
    "import requests\n",
    "url = \"https://storage.googleapis.com/dqlab-dataset/hello.txt\"\n",
    "response = requests.get(url)\n",
    "# Cetak kode status dari response\n",
    "print(response)\n",
    "# Cetak isi file hello.txt menggunakan atribut response.text\n",
    "print(\"\\n>> Cetak isi file hello.txt menggunakan atribut response.text:\")\n",
    "print(response.text)"
   ]
  },
  {
   "cell_type": "markdown",
   "metadata": {},
   "source": [
    "# Menulis Berkas Teks – Part 1\n",
    "Untuk menuliskan isi dari suatu berkas, aku dapat menggunakan fungsi <mark>write()</mark> atau <mark>writelines()</mark> yang telah disediakan oleh Python. Sebelum masuk ke dalam contoh penggunaan fungsi <mark>write()</mark> atau <mark>writelines()</mark>, penting bagiku untuk mengingat bahwa mode yang aku spesifikasikan pada fungsi open() akan mempengaruhi bagaimana Python menuliskan isi ke dalam berkas teks. Jika aku menggunakan mode w, maka Python akan menghapus seluruh isi dalam berkas sebelum menuliskan konten yang aku spesifikasikan."
   ]
  },
  {
   "cell_type": "code",
   "execution_count": 22,
   "metadata": {},
   "outputs": [
    {
     "name": "stdout",
     "output_type": "stream",
     "text": [
      "text are written to the file\n",
      "\n",
      "read mode:\n",
      "Sekarang kita belajar menulis dengan menggunakan Python\n",
      "menulis konten file dengan mode w (write).\n"
     ]
    }
   ],
   "source": [
    "# Menulis ke file hello.txt\n",
    "file = open(\"hello.txt\", \"w\")\n",
    "file.write(\"Sekarang kita belajar menulis dengan menggunakan Python\\n\")\n",
    "file.write(\"menulis konten file dengan mode w (write).\")\n",
    "print(\"text are written to the file\")\n",
    "file.close()\n",
    "\n",
    "file = open(\"hello.txt\",\"r\")\n",
    "content = file.read()\n",
    "print(\"\\nread mode:\")\n",
    "print(content)\n",
    "file.close()"
   ]
  },
  {
   "cell_type": "markdown",
   "metadata": {},
   "source": [
    "# Menulis Berkas Teks – Part 2\n",
    "Ketika aku menulis pada berkas teks menggunakan mode <mark>a</mark>, Python tidak akan menghapus isi dalam berkas dan hanya akan menambahkan konten. Aku mempelajari contoh berikut untuk memahami penggunaan fungsi <mark>write()</mark> dan <mark>writelines()</mark>\n",
    "\n",
    "## Tugas:\n",
    "Perintah ini aku gunakan untuk membuka/membuat sebuah berkas teks dengan menggunakan mode “<mark>a</mark>”, untuk menambahkan beberapa baris pada berkas teks setelah isi dari berkas awalnya menggunakan fungsi <mark>.readlines()</mark>"
   ]
  },
  {
   "cell_type": "code",
   "execution_count": 6,
   "metadata": {},
   "outputs": [
    {
     "name": "stdout",
     "output_type": "stream",
     "text": [
      "Finishes writing out text to the file.\n",
      "\n",
      "reading files:\n",
      "Sekarang kita belajar menulis dengan menggunakan Python\n",
      "menulis konten file dengan mode w (write).\n",
      "\n",
      "Sekarang kita belajar menulis dengan menggunakan Python\n",
      "Menulis konten file dengan mode a (append).\n"
     ]
    }
   ],
   "source": [
    "# Menulis ke file dengan mode append\n",
    "file = open(\"hello.txt\", \"a\")\n",
    "file.writelines([\n",
    "\"\\n\\nSekarang kita belajar menulis dengan menggunakan Python\\n\", \n",
    "\"Menulis konten file dengan mode a (append).\"\n",
    "])\n",
    "print(\"Finishes writing out text to the file.\")\n",
    "file.close()\n",
    "\n",
    "file = open(\"hello.txt\",\"r\")\n",
    "content = file.read()\n",
    "print(\"\\nreading files:\")\n",
    "print(content)"
   ]
  },
  {
   "cell_type": "markdown",
   "metadata": {},
   "source": [
    "# Quiz 1\n",
    "Berdasarkan potongan kode berikut\n",
    "```python\n",
    "file = open(\"hello.txt\",\"w\")\n",
    "file.writelines([\"Halo\\n\", \"Belajar Python\\n\", \"Menyenangkan!\\n\"])\n",
    "file.close()\n",
    "file = open(\"hello.txt\",\"r\")\n",
    "for line in file:\n",
    "    print(line)\n",
    "    break\n",
    "```\n",
    "Potongan kode akan menghasilkan output?\n",
    "\n"
   ]
  },
  {
   "cell_type": "code",
   "execution_count": 34,
   "metadata": {},
   "outputs": [
    {
     "name": "stdout",
     "output_type": "stream",
     "text": [
      "Halo\n",
      "\n"
     ]
    }
   ],
   "source": [
    "file = open(\"hello.txt\",\"w\")\n",
    "file.writelines([\"Halo\\n\", \"Belajar Python\\n\", \"Menyenangkan!\\n\"])\n",
    "file.close()\n",
    "file = open(\"hello.txt\",\"r\")\n",
    "for line in file:\n",
    "    print(line)\n",
    "    break"
   ]
  },
  {
   "cell_type": "markdown",
   "metadata": {},
   "source": [
    "# Quiz 2\n",
    "Berdasarkan potongan kode berikut\n",
    "```python\n",
    "file = open(\"hello.txt\",\"w\")\n",
    "file.writelines([\"Halo\", \"Belajar Python\", \"Menyenangkan!\"])\n",
    "file.close()\n",
    "file = open(\"hello.txt\",\"w\")\n",
    "file.writeline(\"Menulis ke dalam file\")\n",
    "file.writeline(\"menggunakan Python\")\n",
    "file = open(\"hello.txt\",\"r\")\n",
    "for line in file:\n",
    "    print(line)\n",
    "```\n",
    "Potongan kode akan menghasilkan output?"
   ]
  },
  {
   "cell_type": "code",
   "execution_count": 38,
   "metadata": {},
   "outputs": [
    {
     "name": "stdout",
     "output_type": "stream",
     "text": [
      "Menulis ke dalam file\n",
      "\n",
      "menggunakan Python\n"
     ]
    }
   ],
   "source": [
    "file = open(\"hello.txt\",\"w\")\n",
    "file.writelines([\"Halo\", \"Belajar Python\", \"Menyenangkan!\"])\n",
    "file.close()\n",
    "file = open(\"hello.txt\",\"w\")\n",
    "file.write(\"Menulis ke dalam file\\n\")\n",
    "file.write(\"menggunakan Python\")\n",
    "file = open(\"hello.txt\",\"r\")\n",
    "for line in file:\n",
    "    print(line)"
   ]
  },
  {
   "cell_type": "markdown",
   "metadata": {},
   "source": [
    "# Fungsi dalam Library Matematika – Part 1\n",
    "Di dalam library math aku mempelajari berbagai fungsi, beberapa diantaranya dapat dilihat pada tabel di bawah ini.\n",
    "\n",
    "| Fitur            | Keterangan                                                                                       |\n",
    "|------------------|--------------------------------------------------------------------------------------------------|\n",
    "| math.ceil()      | Menerima input berupa bilangan dan mengembalikan pembulatan ke atas untuk bilangan input.        |\n",
    "| math.floor()     | Menerima input berupa bilangan dan mengembalikan hasil pembulatan ke bawah untuk bilangan input. |\n",
    "| math.fabs()      | Menerima input berupa bilangan dan mengembalikan hasil absolut dari bilangan input.              |\n",
    "| math.factorial() | Menerima input berupa bilangan dan mengembalikan hasil faktorial dari bilangan input             |\n",
    "| math.fsum()      | Menerima input berupa tipe data collection (tuple, list, etc.) dan mengembalikan hasil penjumlahan setiap elemennya. |\n",
    "\n",
    "## Tugas:\n",
    "Aku mengetikkan potongan kode berikut dalam live code editor:"
   ]
  },
  {
   "cell_type": "code",
   "execution_count": 39,
   "metadata": {},
   "outputs": [
    {
     "name": "stdout",
     "output_type": "stream",
     "text": [
      ">>> Fungsi math.ceil()\n",
      "11\n",
      "14\n",
      ">>> Fungsi math.floor()\n",
      "10\n",
      "13\n",
      ">>> Fungsi math.fabs()\n",
      "10.32\n",
      "13.87\n",
      ">>> Fungsi math.factorial()\n",
      "120\n",
      ">>> Fungsi math.fsum()\n",
      "6.0\n"
     ]
    }
   ],
   "source": [
    "# Import library math\n",
    "import math\n",
    "# Fungsi math.ceil()\n",
    "print(\">>> Fungsi math.ceil()\")\n",
    "x = 10.32\n",
    "y = 13.87\n",
    "x_ceil = math.ceil(x)\n",
    "y_ceil = math.ceil(y)\n",
    "print(x_ceil)\n",
    "print(y_ceil)\n",
    "# Fungsi math.floor()\n",
    "print(\">>> Fungsi math.floor()\")\n",
    "x_floor = math.floor(x)\n",
    "y_floor = math.floor(y)\n",
    "print(x_floor)\n",
    "print(y_floor)\n",
    "# Fungsi math.fabs()\n",
    "print(\">>> Fungsi math.fabs()\")\n",
    "x = 10.32\n",
    "y = -13.87\n",
    "x = math.fabs(x)\n",
    "y = math.fabs(y)\n",
    "print(x)\n",
    "print(y)\n",
    "# Fungsi math.factorial()\n",
    "print(\">>> Fungsi math.factorial()\")\n",
    "x_factorial = math.factorial(5)\n",
    "print(x_factorial)\n",
    "# Fungsi math.fsum()\n",
    "print(\">>> Fungsi math.fsum()\")\n",
    "x = [1, 2, 3, 4, 5, 6, -6, -5, -4]\n",
    "total = math.fsum(x)\n",
    "print(total)"
   ]
  },
  {
   "cell_type": "markdown",
   "metadata": {},
   "source": [
    "# Fungsi dalam Library Matematika – Part 2\n",
    "Aku masih melanjutkan bagian terakhir dari (bulit-in) library matematika pada Python yang dapat digunakan untuk perhitungan matematis.\n",
    "\n",
    "| Fitur      | Keterangan |\n",
    "|------------|------------|\n",
    "| math.log() | Menerima input berupa dua buah bilangan (asumsikan x dan y) dan mengembalikan sebuah bilangan (z) di mana z merupakan hasil log basis y dari x (atau dengan kata lain x merupakan hasil pemangkatan dari z terhadap y) |\n",
    "| math.sqrt() | Menerima input berupa sebuah bilangan dan mengembalikan hasil akar pangkat dua (akar kuadrat) dari bilangan tersebut |\n",
    "| math.copysign() | Menerima input berupa dua buah bilangan dan mengembalikan bilangan pertama sesuai dengan tanda yang dimiliki oleh bilangan kedua |"
   ]
  },
  {
   "cell_type": "code",
   "execution_count": 41,
   "metadata": {},
   "outputs": [
    {
     "name": "stdout",
     "output_type": "stream",
     "text": [
      ">>> Fungsi math.log()\n",
      "3.0\n",
      "4.0\n",
      "4.0\n",
      ">>> Fungsi math.sqrt()\n",
      "10.0\n",
      "1.4142135623730951\n",
      ">>> Fungsi math.copysign()\n",
      "-10.32\n",
      "-13.87\n",
      "15.0\n"
     ]
    }
   ],
   "source": [
    "# Import library math\n",
    "import math\n",
    "# Fungsi math.log()\n",
    "print(\">>> Fungsi math.log()\")\n",
    "# x = log basis 2 dari 8\n",
    "x = math.log(8,2)\n",
    "# y = log basis 3 dari 81\n",
    "y = math.log(81,3)\n",
    "# z = log basis 10 dari 10000\n",
    "z = math.log(10000,10)\n",
    "print(x)\n",
    "print(y)\n",
    "print(z)\n",
    "# Fungsi math.sqrt()\n",
    "print(\">>> Fungsi math.sqrt()\")\n",
    "# akar kuadrat dari 100\n",
    "x = math.sqrt(100)\n",
    "print(x)\n",
    "# akar kuadrat dari 2\n",
    "y = math.sqrt(2)\n",
    "print(y)\n",
    "# Fungsi math.copysign()\n",
    "print(\">>> Fungsi math.copysign()\")\n",
    "x = 10.32\n",
    "y = -13.87\n",
    "z = -15\n",
    "x = math.copysign(x,z)\n",
    "y = math.copysign(y,z)\n",
    "z = math.copysign(z,10)\n",
    "print(x)\n",
    "print(y)\n",
    "print(z)"
   ]
  },
  {
   "cell_type": "markdown",
   "metadata": {},
   "source": [
    "# Quiz 3\n",
    "Berdasarkan potongan kode berikut\n",
    "```python\n",
    "import math\n",
    "x = 5\n",
    "x_factorial = math.factorial(5)\n",
    "x_factorial = math.copysign(x_factorial, -10)\n",
    "print(x_factorial)\n",
    "```\n",
    "\n",
    "Potongan kode akan menghasilkan output?\n",
    "\n"
   ]
  },
  {
   "cell_type": "code",
   "execution_count": 42,
   "metadata": {},
   "outputs": [
    {
     "name": "stdout",
     "output_type": "stream",
     "text": [
      "-120.0\n"
     ]
    }
   ],
   "source": [
    "import math\n",
    "x = 5\n",
    "x_factorial = math.factorial(5)\n",
    "x_factorial = math.copysign(x_factorial, -10)\n",
    "print(x_factorial)"
   ]
  },
  {
   "cell_type": "markdown",
   "metadata": {},
   "source": [
    "# Quiz 4\n",
    "Berdasarkan potongan kode berikut\n",
    "```python\n",
    "import math\n",
    "x = [2.22,-3.33,4.44,-5.55]\n",
    "total = 0\n",
    "for i in x:\n",
    "    total += math.ceil(i)\n",
    "print(total)\n",
    "```\n",
    "Potongan kode akan menghasilkan output?"
   ]
  },
  {
   "cell_type": "code",
   "execution_count": 44,
   "metadata": {},
   "outputs": [
    {
     "name": "stdout",
     "output_type": "stream",
     "text": [
      "0\n"
     ]
    }
   ],
   "source": [
    "import math\n",
    "x = [2.22,-3.33,4.44,-5.55]\n",
    "total = 0\n",
    "for i in x:\n",
    "    total += math.ceil(i)\n",
    "print(total)"
   ]
  }
 ],
 "metadata": {
  "kernelspec": {
   "display_name": "Python 3.10.7 64-bit",
   "language": "python",
   "name": "python3"
  },
  "language_info": {
   "codemirror_mode": {
    "name": "ipython",
    "version": 3
   },
   "file_extension": ".py",
   "mimetype": "text/x-python",
   "name": "python",
   "nbconvert_exporter": "python",
   "pygments_lexer": "ipython3",
   "version": "3.10.7"
  },
  "orig_nbformat": 4,
  "vscode": {
   "interpreter": {
    "hash": "aee8b7b246df8f9039afb4144a1f6fd8d2ca17a180786b69acc140d282b71a49"
   }
  }
 },
 "nbformat": 4,
 "nbformat_minor": 2
}
